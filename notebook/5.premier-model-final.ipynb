{
 "cells": [
  {
   "cell_type": "code",
   "execution_count": 96,
   "id": "2584c12d",
   "metadata": {},
   "outputs": [],
   "source": [
    "# ! pip install scikit-plot\n",
    "\n",
    "import numpy as np\n",
    "import pandas as pd\n",
    "import matplotlib.pyplot as plt\n",
    "\n",
    "from sklearn.metrics import classification_report,confusion_matrix,plot_confusion_matrix,f1_score,accuracy_score,precision_score\n",
    "from sklearn.metrics import roc_auc_score, accuracy_score, f1_score, confusion_matrix, classification_report\n",
    "from scikitplot.metrics import plot_confusion_matrix, plot_roc\n",
    "from sklearn.model_selection import train_test_split\n",
    "from sklearn.model_selection import KFold\n",
    "from sklearn.model_selection import RepeatedKFold\n",
    "from sklearn.model_selection import StratifiedKFold\n",
    "from sklearn.model_selection import train_test_split\n",
    "from sklearn.preprocessing  import MinMaxScaler\n",
    "from sklearn.preprocessing import LabelEncoder\n",
    "from IPython.display import display\n",
    "from imblearn.under_sampling import RandomUnderSampler\n",
    "from sklearn.preprocessing import StandardScaler\n",
    "from time import time\n",
    "from skopt import dummy_minimize\n",
    "from skopt import gp_minimize\n",
    "from skopt.space import Integer, Real\n",
    "from skopt import BayesSearchCV\n",
    "from sklearn.model_selection import GridSearchCV\n",
    "\n",
    "# import Modellen\n",
    "from sklearn.svm import SVC\n",
    "from lightgbm import LGBMClassifier\n",
    "from sklearn.linear_model import SGDClassifier\n",
    "from sklearn.tree import DecisionTreeClassifier\n",
    "from sklearn.linear_model import LogisticRegression\n",
    "from xgboost import XGBClassifier\n",
    "from sklearn.ensemble import RandomForestClassifier\n",
    "from sklearn.ensemble import AdaBoostClassifier\n",
    "from xgboost.sklearn import XGBClassifier\n",
    "from xgboost import XGBClassifier\n",
    "\n",
    "import warnings\n",
    "warnings.filterwarnings(\"ignore\")\n"
   ]
  },
  {
   "cell_type": "code",
   "execution_count": 97,
   "id": "4be39fc1",
   "metadata": {},
   "outputs": [
    {
     "data": {
      "text/html": [
       "<div>\n",
       "<style scoped>\n",
       "    .dataframe tbody tr th:only-of-type {\n",
       "        vertical-align: middle;\n",
       "    }\n",
       "\n",
       "    .dataframe tbody tr th {\n",
       "        vertical-align: top;\n",
       "    }\n",
       "\n",
       "    .dataframe thead th {\n",
       "        text-align: right;\n",
       "    }\n",
       "</style>\n",
       "<table border=\"1\" class=\"dataframe\">\n",
       "  <thead>\n",
       "    <tr style=\"text-align: right;\">\n",
       "      <th></th>\n",
       "      <th>year</th>\n",
       "      <th>team_placement_2</th>\n",
       "      <th>height</th>\n",
       "      <th>weight</th>\n",
       "      <th>age</th>\n",
       "      <th>spieleranzahl</th>\n",
       "      <th>spieler_median</th>\n",
       "      <th>auslaender_prozent</th>\n",
       "    </tr>\n",
       "  </thead>\n",
       "  <tbody>\n",
       "    <tr>\n",
       "      <th>0</th>\n",
       "      <td>2003</td>\n",
       "      <td>0</td>\n",
       "      <td>1.818743</td>\n",
       "      <td>76.018072</td>\n",
       "      <td>40.976190</td>\n",
       "      <td>168</td>\n",
       "      <td>33.600000</td>\n",
       "      <td>63.095238</td>\n",
       "    </tr>\n",
       "    <tr>\n",
       "      <th>1</th>\n",
       "      <td>2003</td>\n",
       "      <td>2</td>\n",
       "      <td>1.812329</td>\n",
       "      <td>76.712329</td>\n",
       "      <td>42.301370</td>\n",
       "      <td>73</td>\n",
       "      <td>24.333333</td>\n",
       "      <td>54.810496</td>\n",
       "    </tr>\n",
       "    <tr>\n",
       "      <th>2</th>\n",
       "      <td>2004</td>\n",
       "      <td>2</td>\n",
       "      <td>1.820952</td>\n",
       "      <td>76.904762</td>\n",
       "      <td>41.602410</td>\n",
       "      <td>84</td>\n",
       "      <td>28.000000</td>\n",
       "      <td>47.945205</td>\n",
       "    </tr>\n",
       "    <tr>\n",
       "      <th>3</th>\n",
       "      <td>2005</td>\n",
       "      <td>0</td>\n",
       "      <td>1.827250</td>\n",
       "      <td>76.925000</td>\n",
       "      <td>39.031250</td>\n",
       "      <td>160</td>\n",
       "      <td>32.000000</td>\n",
       "      <td>65.662651</td>\n",
       "    </tr>\n",
       "    <tr>\n",
       "      <th>4</th>\n",
       "      <td>2005</td>\n",
       "      <td>2</td>\n",
       "      <td>1.824366</td>\n",
       "      <td>77.070423</td>\n",
       "      <td>39.295775</td>\n",
       "      <td>71</td>\n",
       "      <td>23.666667</td>\n",
       "      <td>56.176471</td>\n",
       "    </tr>\n",
       "  </tbody>\n",
       "</table>\n",
       "</div>"
      ],
      "text/plain": [
       "   year  team_placement_2    height     weight        age  spieleranzahl  \\\n",
       "0  2003                 0  1.818743  76.018072  40.976190            168   \n",
       "1  2003                 2  1.812329  76.712329  42.301370             73   \n",
       "2  2004                 2  1.820952  76.904762  41.602410             84   \n",
       "3  2005                 0  1.827250  76.925000  39.031250            160   \n",
       "4  2005                 2  1.824366  77.070423  39.295775             71   \n",
       "\n",
       "   spieler_median  auslaender_prozent  \n",
       "0       33.600000           63.095238  \n",
       "1       24.333333           54.810496  \n",
       "2       28.000000           47.945205  \n",
       "3       32.000000           65.662651  \n",
       "4       23.666667           56.176471  "
      ]
     },
     "execution_count": 97,
     "metadata": {},
     "output_type": "execute_result"
    }
   ],
   "source": [
    "# Datei hochladen\n",
    "median_klassifikation_team = pd.read_csv(\"median_klassifikation_team_v2.csv\")\n",
    "median_klassifikation_team.head()"
   ]
  },
  {
   "cell_type": "markdown",
   "id": "b93b8cd4",
   "metadata": {},
   "source": [
    "- **Testdaten:**  Der verbleibende Teil des Datensatzes, ebenfalls 30 %, wird für die endgültige Bewertung des Modells verwendet. Diese Daten sollten während des gesamten Trainingsprozesses nicht gesehen werden. \n",
    "\n",
    "\n",
    "- Feature **'Year'** hat eine starke Korrelation mit 'team_placement_2' deswegen würden aus den Dataset rausgenommen. \n",
    "\n",
    "\n",
    "- Feature **spieleranzahl**"
   ]
  },
  {
   "cell_type": "code",
   "execution_count": 98,
   "id": "fe3d4398",
   "metadata": {},
   "outputs": [],
   "source": [
    "# Die Daten werden aufgeteilt in 30 % Testen und 70 % Training. \n",
    "# Die Testdaten werden nur zum Schluss verwendet und werden die Realität simulieren\n",
    "train, test = train_test_split(median_klassifikation_team, test_size=0.30, random_state=42)\n",
    "\n",
    "\n",
    "# Train und Valiedirung  \n",
    "x = train.drop(columns=['team_placement_2','year','spieleranzahl'])\n",
    "y = train.drop(columns=['year','age','height','weight','auslaender_prozent','spieler_median','spieleranzahl'])\n",
    "\n",
    "# Final Model testen\n",
    "X_test = test.drop(columns=['team_placement_2','year','spieleranzahl'])\n",
    "y_test = test.drop(columns=['year','age','height','weight','auslaender_prozent','spieler_median','spieleranzahl'])\n",
    "\n",
    "\n",
    "# reset index \n",
    "x= x.reset_index(drop=True)\n",
    "y= y.reset_index(drop=True)"
   ]
  },
  {
   "cell_type": "code",
   "execution_count": 99,
   "id": "b28944fa",
   "metadata": {},
   "outputs": [
    {
     "name": "stdout",
     "output_type": "stream",
     "text": [
      "<class 'pandas.core.frame.DataFrame'>\n",
      "Int64Index: 9 entries, 27 to 26\n",
      "Data columns (total 8 columns):\n",
      " #   Column              Non-Null Count  Dtype  \n",
      "---  ------              --------------  -----  \n",
      " 0   year                9 non-null      int64  \n",
      " 1   team_placement_2    9 non-null      int64  \n",
      " 2   height              9 non-null      float64\n",
      " 3   weight              9 non-null      float64\n",
      " 4   age                 9 non-null      float64\n",
      " 5   spieleranzahl       9 non-null      int64  \n",
      " 6   spieler_median      9 non-null      float64\n",
      " 7   auslaender_prozent  9 non-null      float64\n",
      "dtypes: float64(5), int64(3)\n",
      "memory usage: 648.0 bytes\n"
     ]
    }
   ],
   "source": [
    "test.info()"
   ]
  },
  {
   "cell_type": "markdown",
   "id": "59aaf2e5",
   "metadata": {},
   "source": [
    "**Modelle vergleichen**\n",
    "\n",
    "Um die verschiedenen Modelle zu bewerten, wurde eine Funktion mit Kreuzvalidierung erstellt. Diese verwendet KFold zur Aufteilung der Daten und berechnet die durchschnittliche Genauigkeit sowie die Standardabweichung der Genauigkeit für jedes Modell. Um die Stabilität und Robustheit der Modelle genauer zu überprüfen, wurde die RepeatedKFold-Methode angewendet.\n",
    "\n",
    "**RepeatedKFold**:  ist ein leistungsstarkes Werkzeug, das die Zuverlässigkeit und Stabilität von Modellbewertungen verbessert, insbesondere bei **kleinen Datensätzen** oder wenn ein genauer Modellvergleich erforderlich ist. Diese Methode hilft dabei, die Varianz der Ergebnisse zu reduzieren und ermöglicht eine präzisere Einschätzung der Modellleistung.\n",
    "\n",
    "\n",
    "Sie ist besonders nützlich in den folgenden Situationen:\n",
    "\n",
    "**1. Kleine Datensätze**\n",
    "Bei kleinen Datensätzen können zufällige Aufteilungen in Trainings- und Validierungssätze stark unterschiedliche Ergebnisse liefern. RepeatedKFold hilft dabei, diese Variabilität zu reduzieren, indem sie mehrere K-Fold-Kreuzvalidierungen durchführt und die Ergebnisse mittelt.\n",
    "\n",
    "**2. Modellvergleich**\n",
    "Wenn Sie verschiedene Modelle vergleichen möchten, bietet RepeatedKFold eine robustere Bewertung, da die Modelle über mehrere Wiederholungen hinweg getestet werden. Dies reduziert die Wahrscheinlichkeit, dass die Leistung eines Modells zufällig besser oder schlechter erscheint als in der Realität.\n",
    "\n",
    "**3. Bewertung der Modellstabilität**\n",
    "Wenn Sie wissen möchten, wie stabil die Leistung Ihres Modells ist, kann RepeatedKFold durch mehrere Wiederholungen zeigen, wie sehr die Ergebnisse variieren. Ein Modell, das in allen Wiederholungen ähnlich gute Ergebnisse liefert, ist stabiler als ein Modell, dessen Leistung stark schwankt.\n",
    "\n",
    "**4. Schätzungen mit geringerer Varianz**\n",
    "Durch die Wiederholung des K-Fold-Verfahrens wird die Varianz der Leistungsschätzungen reduziert, was zu genaueren und zuverlässigeren Schätzungen führt.\n"
   ]
  },
  {
   "cell_type": "code",
   "execution_count": 100,
   "id": "56c8f6ab",
   "metadata": {},
   "outputs": [
    {
     "name": "stdout",
     "output_type": "stream",
     "text": [
      "Time: 12.7\n",
      " \n",
      "Model: Logistic Regression\n",
      "Mean Accuracy: 0.5950\n",
      "Standard Deviation: 0.2285\n",
      "\n",
      "Model: Random Forest\n",
      "Mean Accuracy: 0.6200\n",
      "Standard Deviation: 0.2015\n",
      "\n",
      "Model: DecisionTreeClassifier\n",
      "Mean Accuracy: 0.5350\n",
      "Standard Deviation: 0.2292\n",
      "\n",
      "Model: SGDClassifier\n",
      "Mean Accuracy: 0.5450\n",
      "Standard Deviation: 0.2631\n",
      "\n",
      "Model: LGBMClassifier\n",
      "Mean Accuracy: 0.6000\n",
      "Standard Deviation: 0.2345\n",
      "\n",
      "Model: XGBClassifier\n",
      "Mean Accuracy: 0.6400\n",
      "Standard Deviation: 0.1881\n",
      "\n",
      "Model: SVC\n",
      "Mean Accuracy: 0.5900\n",
      "Standard Deviation: 0.2437\n",
      "\n",
      "Model: AdaBoostClassifier\n",
      "Mean Accuracy: 0.6500\n",
      "Standard Deviation: 0.2121\n",
      "\n",
      "Model: xgboost\n",
      "Mean Accuracy: 0.6400\n",
      "Standard Deviation: 0.1881\n",
      "\n"
     ]
    }
   ],
   "source": [
    "# Kreuzvalidierungsfunktion für Klassifikation\n",
    "def cross_validate_model(models, x, y, n_splits=5):\n",
    "    \n",
    "    # Dict für die Ergbnisse\n",
    "    results = {}\n",
    "    scaler = MinMaxScaler()\n",
    "    \n",
    "    for name, model in models:\n",
    "        accuracy_scores = []\n",
    "        \n",
    "         # KFold teilt die Daten in n_splits Folds auf.\n",
    "         # Wiederholt die K-fache Aktion n-mal mit unterschiedlicher Zufallsverteilung bei jeder Wiederholung.\n",
    "         # shuffle=True stellt sicher, dass die Daten vor der Aufteilung gemischt werden.\n",
    "         # random_state=rep Die beispiele für jeden Block werden sich ändern \n",
    "         # Arlternative lösung  kf = RepeatedKFold(n_splits=5, n_repeats=10, random_state=2652124)\n",
    "        for rep in range(10):\n",
    "            kf = KFold(n_splits=n_splits, shuffle=True, random_state=rep)\n",
    "        \n",
    "            # Durchführen der Kreuzvalidierung\n",
    "            for train_index, val_index in kf.split(x):\n",
    "                # Aufteilen der Daten in Trainings- und Validierungs-Sets, Hier werden in den Index zugreifen.:\n",
    "                x_train, x_val = x.iloc[train_index], x.iloc[val_index]\n",
    "                y_train, y_val = y.iloc[train_index], y.iloc[val_index]\n",
    "\n",
    "\n",
    "                # LabelEncoder für \"XGBClassifier\"\n",
    "                # XGBClassifier muss eine  Klassenspalte bei 0 beginnen (wie seit Version 1.3.2 erforderlich).\n",
    "                # Eine einfache Lösung hierfür ist die Verwendung von LabelEncoder aus der Bibliothek sklearn.preprocssing.\n",
    "                # Dies liegt daran, dass der y_train vor dem Training in einem \n",
    "                # neueren aktualisierten XGBoost-Modell codiert werden muss. \n",
    "                # Das heißt, Sie müssen eine kategorische Transformation wie Label-Encoder \n",
    "                le = LabelEncoder()\n",
    "                y_train = le.fit_transform(y_train)\n",
    "                \n",
    "                # Anwenden des Scalers\n",
    "                # Bei dem Training eines Machine Learning Modells ist es wichtig, dass der Skalierer lediglich an die Trainingsdaten angepasst wird und dann jedoch sowohl auf die Trainings- \n",
    "                # als auch auf die Testdaten angewandt wird. Dadurch ist die Konsistenz des Skalierungsprozesses sichergestellt.\n",
    "                #if normalaize == False:\n",
    "                x_train_s = scaler.fit_transform(x_train)\n",
    "                x_val_s = scaler.transform(x_val)\n",
    "\n",
    "                model.fit(x_train_s, y_train)\n",
    "                y_pred = model.predict(x_val_s)\n",
    "\n",
    "                # Berechnung der Genauigkeit\n",
    "                accuracy = accuracy_score(y_val, y_pred)\n",
    "                accuracy_scores.append(accuracy)\n",
    "           \n",
    "        # Accuracy und Standardabweichung in eine Liste speichern\n",
    "        mean_accuracy = np.mean(accuracy_scores)\n",
    "        std_accuracy = np.std(accuracy_scores)\n",
    "        results[name] = (mean_accuracy, std_accuracy)\n",
    "    \n",
    "    return results\n",
    "\n",
    "# Beispiel-Daten vorbereiten\n",
    "# Zielvariable ist nun der direkte Teamplatz (1 bis 20)\n",
    "\n",
    "#mean_league_team['target'] = mean_league_team['team_placement']\n",
    "\n",
    "# Features und Zielvariable trennen\n",
    "#x = mean_league_team[['age', 'height', 'weight']]\n",
    "#y = mean_league_team['target']\n",
    "\n",
    "\n",
    "\n",
    "# Liste von Modellen, die verglichen werden sollen\n",
    "models = [\n",
    "    (\"Logistic Regression\", LogisticRegression(max_iter=1000, multi_class='multinomial', solver='lbfgs')),\n",
    "    (\"Random Forest\", RandomForestClassifier(random_state=0)),\n",
    "    (\"DecisionTreeClassifier\",DecisionTreeClassifier(random_state=0)),\n",
    "    (\"SGDClassifier\",SGDClassifier(random_state=0)),\n",
    "    (\"LGBMClassifier\",LGBMClassifier(random_state=0)),\n",
    "    (\"XGBClassifier\",XGBClassifier(random_state=0)),\n",
    "    (\"SVC\",SVC(random_state=0)),\n",
    "    (\"AdaBoostClassifier\",AdaBoostClassifier(random_state=0)),\n",
    "    (\"xgboost\",XGBClassifier(random_state=0))\n",
    "]\n",
    "\n",
    "# Kreuzvalidierung durchführen und Ergebnisse speichern\n",
    "stard = time()\n",
    "results = cross_validate_model(models, x, y)\n",
    "end = time()\n",
    "time = abs(stard - end)\n",
    "print('Time:',round(time,1))\n",
    "print(\" \")\n",
    "\n",
    "# Ergebnisse anzeigen\n",
    "for name, (mean_accuracy, std_accuracy) in results.items():\n",
    "    print(f\"Model: {name}\")\n",
    "    print(f\"Mean Accuracy: {mean_accuracy:.4f}\")\n",
    "    print(f\"Standard Deviation: {std_accuracy:.4f}\\n\")"
   ]
  },
  {
   "cell_type": "code",
   "execution_count": 127,
   "id": "6f724a12",
   "metadata": {},
   "outputs": [],
   "source": [
    "# Train und Valiedirung  year wird raus genommen wegen die Multikollinearität mit und age \n",
    "#x = median_klassifikation_team.drop(columns=['team_placement_2','year','spieleranzahl'])\n",
    "#y = median_klassifikation_team.drop(columns=['year','age','height','weight','auslaender_prozent','spieler_median','spieleranzahl'])\n",
    "\n",
    "X_train, X_test, y_train, y_test = train_test_split(x,y, test_size=0.20, random_state=42, shuffle=True)\n",
    "\n",
    "# Anwenden des Scalers\n",
    "scaler = MinMaxScaler()\n",
    "X_train = scaler.fit_transform(X_train)\n",
    "X_test = scaler.transform(X_test)"
   ]
  },
  {
   "cell_type": "markdown",
   "id": "40acdb60",
   "metadata": {},
   "source": [
    "**Hyperparameter-Tuning**\n",
    "\n",
    "- **Bayesian Optimization:**\n",
    "\n",
    "Bayesian Optimization ist eine effiziente Methode zur Optimierung von Funktionen, die teuer zu bewerten sind. Es wird häufig im Kontext von Hyperparameter-Tuning in maschinellen Lernverfahren verwendet, wo es darauf ankommt, die besten Parameter zu finden, um die Leistung eines Modells zu maximieren oder zu minimieren.\n",
    "\n",
    "- **Wie funktioniert Bayesian Optimization?**\n",
    "\n",
    "Im Gegensatz zu klassischen Optimierungsmethoden, die systematisch oder zufällig den Parameterraum durchsuchen (z.B. Grid Search oder Random Search), nutzt Bayesian Optimization probabilistische Modelle, um die Funktion zu approximieren, die optimiert werden soll. Diese Methode integriert Wissen aus bisherigen Evaluierungen, um den nächsten Punkt zu wählen, der am vielversprechendsten ist. Dadurch wird die Anzahl der Evaluierungen minimiert und die Effizienz der Optimierung erhöht.\n",
    "\n",
    "\n",
    "**Vorteile der Bayesian Optimization**\n",
    "\n",
    "- **Effizienz:** Da Bayesian Optimization sich auf bereits vorhandenes Wissen stützt und nur vielversprechende Punkte evaluiert, ist es besonders effizient für Probleme, bei denen die Evaluierung der Funktion teuer ist.\n",
    "\n",
    "\n",
    "- **Flexibilität:** Es kann auf jede Funktion angewendet werden, die teuer zu berechnen ist und keine geschlossene Form hat.\n",
    "\n",
    "\n",
    "- **Parallelisierbarkeit:** Verschiedene Akquisitionsfunktionen können angepasst werden, um parallele Evaluierungen zu ermöglichen, was den Prozess weiter beschleunigt."
   ]
  },
  {
   "cell_type": "code",
   "execution_count": 128,
   "id": "57bc2af8",
   "metadata": {},
   "outputs": [],
   "source": [
    "# AdaBoost-Modell mit einem DecisionTreeClassifier als Basis-Estimator\n",
    "adaboost = AdaBoostClassifier(base_estimator=DecisionTreeClassifier(random_state=42))\n",
    "\n",
    "# Definition des Hyperparameter-Suchraums\n",
    "param_space = {\n",
    "    'n_estimators': Integer(50, 200),\n",
    "    'learning_rate': Real(0.01, 0.08, prior='log-uniform'),\n",
    "    'base_estimator__max_depth': Integer(1, 10),\n",
    "    \"algorithm\": [\"SAMME.R\"]  # Algorithmus-Typ\n",
    "}\n"
   ]
  },
  {
   "cell_type": "code",
   "execution_count": 129,
   "id": "c9b0b624",
   "metadata": {},
   "outputs": [
    {
     "name": "stdout",
     "output_type": "stream",
     "text": [
      "Beste Hyperparameter:  OrderedDict([('algorithm', 'SAMME.R'), ('base_estimator__max_depth', 9), ('learning_rate', 0.047758216279353075), ('n_estimators', 174)])\n",
      "Beste Trainings-Score:  0.6583333333333332\n",
      "Test Accuracy: 0.8333\n"
     ]
    }
   ],
   "source": [
    "# Bayesian Optimization mit 5-facher Kreuzvalidierung\n",
    "bayes_cv_tuner = BayesSearchCV(\n",
    "     estimator=adaboost,\n",
    "    search_spaces=param_space,\n",
    "     n_iter=20,  # Anzahl der Iterationen\n",
    "    cv= RepeatedKFold(\n",
    "          n_splits=7,\n",
    "          random_state=42),  # Kreuzvalidierung mit 5 Folds auf den Trainingsdaten\n",
    "     n_jobs=-1,  # Verwende alle verfügbaren CPUs\n",
    "    random_state=42\n",
    ")\n",
    "\n",
    "# # Modell mit optimierten Parametern auf den Trainingsdaten trainieren\n",
    "best_model = bayes_cv_tuner.fit(X_train, y_train)\n",
    "\n",
    "# # Die besten Hyperparameter anzeigen\n",
    "print(\"Beste Hyperparameter: \", best_model.best_params_)\n",
    "print(\"Beste Trainings-Score: \", best_model.best_score_)\n",
    "\n",
    "\n",
    "# # Testgenauigkeit auf den Testdaten\n",
    "test_accuracy = best_model.score(X_test, y_test)\n",
    "print(f\"Test Accuracy: {test_accuracy:.4f}\")\n"
   ]
  },
  {
   "cell_type": "markdown",
   "id": "a369f279",
   "metadata": {},
   "source": [
    "**Beste Hyperparameter:**\n",
    "\n",
    "- **algorithm: 'SAMME.R':**\n",
    "Dieser Parameter gibt an, welcher Boosting-Algorithmus verwendet wird. 'SAMME.R' ist eine verbesserte Version des ursprünglichen 'SAMME'-Algorithmus, die die Wahrscheinlichkeiten der Vorhersagen direkt verwendet und dadurch tendenziell effizienter ist.\n",
    "\n",
    "- **base_estimator__max_depth: 1:** Das ist die maximale Tiefe des Entscheidungsbaums (des Basis-Estimators). Eine Tiefe von 1 bedeutet, dass jeder Entscheidungsbaum in deinem AdaBoost-Modell ein sogenannter \"Stumpf\" ist, d.h., ein Baum mit nur einer Entscheidung pro Feature. Diese einfache Struktur reduziert das Risiko von Overfitting.\n",
    "\n",
    "- **learning_rate: 0.04**\n",
    "Die Lernrate bestimmt, wie stark neue Bäume die Fehler der vorherigen Bäume korrigieren. Eine Lernrate von 1.0 bedeutet, dass jeder Baum den Fehler der vorherigen vollständig korrigiert, was zu schnelleren Anpassungen führt.\n",
    "\n",
    "- **n_estimators: 174**\n",
    "Das ist die Anzahl der Bäume, die in der Boosting-Sequenz trainiert werden. Mehr Bäume können die Genauigkeit erhöhen, aber auch die Rechenzeit verlängern.\n",
    "\n",
    "- **Beste Trainings-Score: 0.61**\n",
    "Dieser Wert gibt an, dass das Modell mit den besten gefundenen Hyperparametern während der Cross-Validation auf den Trainingsdaten eine Genauigkeit von etwa 78,57 % erreicht hat.\n",
    "\n",
    "- **Test Accuracy: 0.83**\n",
    "Das ist die Genauigkeit des optimierten Modells auf den Testdaten, die nicht im Training verwendet wurden. Eine Testgenauigkeit von 83,33 % zeigt, dass das Modell gut generalisiert und auch auf ungesehenen Daten gute Vorhersagen macht.\n",
    "\n",
    "\n",
    "**Gesamtinterpretation:**\n",
    "- Das Modell hat eine ordentliche Leistung erbracht, wobei die Testgenauigkeit (0,8333) deutlich höher ist als der Trainings-Score (0,6583). Dies könnte darauf hinweisen, dass das Modell gut generalisiert und nicht überangepasst ist. \n",
    "\n",
    "\n",
    "- Die relativ niedrige Lernrate (0,0477) und die größere Tiefe des Basis-Schätzers (max_depth = 9) deuten darauf hin, dass das Modell detaillierte Muster in den Daten erfasst, jedoch langsam lernt, was die Generalisierungsfähigkeit unterstützt.\n",
    "\n",
    "\n",
    "- Insgesamt zeigt das Modell eine gute Balance zwischen der Modellkomplexität und der Generalisierungsfähigkeit, wie durch die relativ hohe Testgenauigkeit gezeigt wird. Es könnte jedoch von weiteren Anpassungen oder zusätzlichen Daten profitieren, um die Trainingsgenauigkeit zu erhöhen und eventuell die Testgenauigkeit weiter zu verbessern.\n",
    "\n"
   ]
  },
  {
   "cell_type": "code",
   "execution_count": 130,
   "id": "9c05c12e",
   "metadata": {},
   "outputs": [],
   "source": [
    "# # modelo final\n",
    "# xgb = XGBClassifier(learning_rate=0.001 , n_estimators=50, max_depth=1, min_child_weight=1, gamma=0.0)\n",
    "# xgb.fit(X_train_rus, y_train_rus)\n",
    "\n",
    "# # fazer a previsão\n",
    "# X_test = scaler.transform(X_test)\n",
    "# y_pred = xgb.predict(X_test)\n",
    "\n",
    "# # Classification Report\n",
    "# print(classification_report(y_test, y_pred))\n",
    "\n",
    "# # imprimir a área sob a curva\n",
    "# print(\"AUC: {:.4f}\\n\".format(roc_auc_score(y_test, y_pred)))\n",
    "\n",
    "# # plotar matriz de confusão\n",
    "# plot_confusion_matrix(y_test, y_pred, normalize=True)\n",
    "# plt.show()"
   ]
  },
  {
   "cell_type": "code",
   "execution_count": 161,
   "id": "753becc7",
   "metadata": {},
   "outputs": [
    {
     "name": "stdout",
     "output_type": "stream",
     "text": [
      "              precision    recall  f1-score   support\n",
      "\n",
      "           0       1.00      1.00      1.00         5\n",
      "           1       0.00      0.00      0.00         1\n",
      "           2       0.75      1.00      0.86         3\n",
      "\n",
      "    accuracy                           0.89         9\n",
      "   macro avg       0.58      0.67      0.62         9\n",
      "weighted avg       0.81      0.89      0.84         9\n",
      "\n"
     ]
    }
   ],
   "source": [
    "ado = AdaBoostClassifier(algorithm='SAMME', learning_rate= 0.04, n_estimators=200, random_state=0)\n",
    "\n",
    "# Training \n",
    "ado.fit(X_train,y_train)\n",
    "\n",
    "# Final Test, die Daten wurden noch nicht von den Model gesehen.\n",
    "X_test = test.drop(columns=['team_placement_2','year','spieleranzahl'])\n",
    "y_test = test.drop(columns=['year','age','height','weight','auslaender_prozent','spieler_median','spieleranzahl'])\n",
    "\n",
    "\n",
    "# fazer a previsão\n",
    "X_test = scaler.transform(X_test)\n",
    "y_pred = ado.predict(X_test)\n",
    "\n",
    "# # Classification Report\n",
    "print(classification_report(y_test, y_pred))\n"
   ]
  },
  {
   "cell_type": "code",
   "execution_count": 162,
   "id": "925c0e8e",
   "metadata": {},
   "outputs": [
    {
     "data": {
      "text/plain": [
       "array([[5, 0, 0],\n",
       "       [0, 0, 1],\n",
       "       [0, 0, 3]], dtype=int64)"
      ]
     },
     "execution_count": 162,
     "metadata": {},
     "output_type": "execute_result"
    }
   ],
   "source": [
    "##MATRIZ DE CONFUSÃO DO SKLEARN\n",
    "confusion_matrix(y_pred=y_pred,y_true= y_test)"
   ]
  },
  {
   "cell_type": "code",
   "execution_count": 163,
   "id": "5ecbfada",
   "metadata": {},
   "outputs": [
    {
     "data": {
      "image/png": "[encoded data removed]",
      "text/plain": [
       "<Figure size 720x360 with 2 Axes>"
      ]
     },
     "metadata": {
      "needs_background": "light"
     },
     "output_type": "display_data"
    }
   ],
   "source": [
    "plot_confusion_matrix(y_test[0:9], y_pred)\n",
    "plt.show()"
   ]
  },
  {
   "cell_type": "code",
   "execution_count": 164,
   "id": "ace5d8a1",
   "metadata": {},
   "outputs": [
    {
     "name": "stdout",
     "output_type": "stream",
     "text": [
      "ACURÁCIA:  88.88888888888889\n",
      "F1-SCORE:  61.904761904761905\n"
     ]
    }
   ],
   "source": [
    "## ACURACIA\n",
    "print(\"ACURÁCIA: \", accuracy_score(y_pred=y_pred,y_true=y_test)*100)\n",
    "\n",
    "## F-SCORE\n",
    "print(\"F1-SCORE: \", f1_score(y_pred=y_pred,y_true=y_test,average='macro')*100)"
   ]
  },
  {
   "cell_type": "markdown",
   "id": "71904965",
   "metadata": {},
   "source": [
    "**Metriken für jede Klasse:**\n",
    "\n",
    "**Klasse 0:**\n",
    "\n",
    "- **Precision:** 1.00: Von allen Vorhersagen, die das Modell als Klasse 0 klassifiziert hat, waren 100 % tatsächlich Klasse 0.\n",
    "- **Recall:** 1.00: Von allen tatsächlichen Instanzen der Klasse 0 hat das Modell 100 % korrekt vorhergesagt.\n",
    "- **F1-Score:** 1.00: Dies ist der harmonische Mittelwert von Precision und Recall, der ebenfalls perfekt ist.\n",
    "- **Support:** 5: Es gab 5 Instanzen der Klasse 0 in den Testdaten.\n",
    "\n",
    "**Klasse 1:**\n",
    "\n",
    "- **Precision:** 0.00: Keine der Vorhersagen für Klasse 1 war korrekt, was darauf hinweist, dass das Modell Schwierigkeiten hatte, diese Klasse zu identifizieren.\n",
    "- **Recall:** 0.00: Das Modell konnte keine der tatsächlichen Instanzen der Klasse 1 korrekt identifizieren.\n",
    "- **F1-Score:** 0.00: Dies zeigt, dass das Modell bei der Klasse 1 völlig versagt hat.\n",
    "- **Support:** 1: Es gab nur eine Instanz der Klasse 1 in den Testdaten, und das Modell hat sie nicht korrekt erkannt.\n",
    "\n",
    "**Klasse 2:**\n",
    "\n",
    "- **Precision:** 0.75: Von den Vorhersagen, die das Modell als Klasse 2 klassifiziert hat, waren 75 % korrekt.\n",
    "- **Recall:** 1.00: Von allen tatsächlichen Instanzen der Klasse 2 hat das Modell 100 % korrekt vorhergesagt.\n",
    "- **F1-Score:** 0.86: Dies zeigt eine gute, aber nicht perfekte Leistung bei der Vorhersage von Klasse 2.\n",
    "- **Support:** 3: Es gab 3 Instanzen der Klasse 2 in den Testdaten.\n",
    "\n",
    "\n",
    "**Accuracy: 0.89:** Das Modell hat insgesamt 89 % der Testinstanzen korrekt klassifiziert, was ein Hinweis darauf ist, dass das Modell im Allgemeinen gut performt.\n",
    "\n",
    "**Macro avg (Durchschnitt über alle Klassen):**\n",
    "\n",
    "- **Precision:** 0.58: Der ungewichtete Durchschnitt der Präzision über alle Klassen.\n",
    "- **Recall:** 0.67: Der ungewichtete Durchschnitt des Recalls über alle Klassen.\n",
    "- **F1-Score:** 0.62: Der ungewichtete Durchschnitt des F1-Scores über alle Klassen.\n",
    "- **Support:** 9: Die Gesamtzahl der Instanzen in den Testdaten.\n",
    "\n",
    "\n",
    "**Weighted avg (gewichteter Durchschnitt):**\n",
    "\n",
    "- **Precision:** 0.81: Der gewichtete Durchschnitt der Präzision unter Berücksichtigung des Supports jeder Klasse.\n",
    "- **Recall:** 0.89: Der gewichtete Durchschnitt des Recalls.\n",
    "- **F1-Score:** 0.84: Der gewichtete Durchschnitt des F1-Scores.\n",
    "\n",
    "**Gesamtinterpretation:**\n",
    "\n",
    "Das Modell zeigt insgesamt eine gute Leistung, besonders bei den Klassen 0 und 2. Allerdings hat es Schwierigkeiten mit Klasse 1, die möglicherweise aufgrund der geringen Anzahl an Instanzen in den Daten und/oder der Schwierigkeit, diese Klasse von den anderen zu unterscheiden, entstanden sind. Dies führt zu einem niedrigen Macro Average, aber der Weighted Average bleibt hoch, da die meisten Instanzen richtig klassifiziert wurden. Es könnte sinnvoll sein, Methoden wie das Oversampling oder das Anpassen der Klassenverteilung zu verwenden, um die Leistung für Klasse 1 zu verbessern.\n",
    "\n",
    "Die weighted average Werte sind höher als die macro average Werte, was darauf hinweist, dass das Modell bei den häufigeren Klassen (0 und 2) besser abgeschnitten hat.\n",
    "Um das Modell zu verbessern, könnte man versuchen, mehr Daten für Klasse 1 zu sammeln oder Methoden wie das Anpassen der Klassenverhältnisse oder die Anwendung von Gewichtungen in den Verlustfunktionen in Betracht ziehen.\n"
   ]
  },
  {
   "cell_type": "markdown",
   "id": "092ab21c",
   "metadata": {},
   "source": [
    "**FEATURE IMPORTANCE**"
   ]
  },
  {
   "cell_type": "code",
   "execution_count": 165,
   "id": "8c7fcc75",
   "metadata": {},
   "outputs": [
    {
     "name": "stdout",
     "output_type": "stream",
     "text": [
      "('height', 0.07153785591168502)\n",
      "('weight', 0.0953934910687356)\n",
      "('age', 0.12690709539936024)\n",
      "('spieler_median', 0.05223658213714126)\n",
      "('auslaender_prozent', 0.6539249754830776)\n"
     ]
    }
   ],
   "source": [
    "for i in zip(x.columns, ado.feature_importances_):\n",
    "  print(i)"
   ]
  },
  {
   "cell_type": "markdown",
   "id": "371dccc2",
   "metadata": {},
   "source": [
    "('height', 0.0)\n",
    "('weight', 0.06589573508917418)\n",
    "('age', 0.079342765233142)\n",
    "('spieler_median', 0.0)\n",
    "('auslaender_prozent', 0.8547614996776842)"
   ]
  },
  {
   "cell_type": "code",
   "execution_count": 166,
   "id": "f2c2c866",
   "metadata": {},
   "outputs": [
    {
     "data": {
      "text/plain": [
       "<AxesSubplot:>"
      ]
     },
     "execution_count": 166,
     "metadata": {},
     "output_type": "execute_result"
    },
    {
     "data": {
      "image/png": "[encoded data removed]",
      "text/plain": [
       "<Figure size 720x360 with 1 Axes>"
      ]
     },
     "metadata": {
      "needs_background": "light"
     },
     "output_type": "display_data"
    }
   ],
   "source": [
    "from pylab import rcParams\n",
    "rcParams['figure.figsize'] = 10, 5\n",
    "feat_importances = pd.Series(ado.feature_importances_, index=x.columns)\n",
    "feat_importances.nlargest(4).plot(kind='barh',colormap='Paired')"
   ]
  },
  {
   "cell_type": "markdown",
   "id": "c8f8f102",
   "metadata": {},
   "source": [
    "1. Höhe (height):\n",
    "\n",
    "     - Die Höhe der Spieler hat eine Feature-Importance von etwa 0,0715. Dies bedeutet, dass die Höhe einen gewissen, aber nicht dominanten Einfluss auf die Klassifikation im Modell hat. Es könnte sein, dass die Körpergröße in gewissen Kontexten eine Rolle spielt, zum Beispiel bei spezifischen Positionen oder Spielstilen, aber sie ist nicht das entscheidende Merkmal.\n",
    "\n",
    "\n",
    "2. Gewicht (weight):\n",
    "\n",
    "   -  Das Gewicht der Spieler zeigt eine etwas höhere Bedeutung mit einem Wert von 0,0954. Dies könnte darauf hinweisen, dass das Gewicht ein etwas relevanterer Faktor für die Klassifikation ist, vielleicht im Zusammenhang mit der körperlichen Präsenz auf dem Spielfeld oder der Position der Spieler.\n",
    "   \n",
    "\n",
    "3. Alter (age):\n",
    "\n",
    "    - Das Alter hat eine Feature-Importance von 0,1269, was es zu einem wichtigen Merkmal macht. Dies deutet darauf hin, dass das Alter der Spieler eine signifikante Rolle spielt, möglicherweise weil es mit Erfahrung, Fitness oder Leistungsfähigkeit korreliert ist.\n",
    "    \n",
    "\n",
    "4. Median der Spieleranzahl (spieler_median):\n",
    "\n",
    "    - Mit einer Feature-Importance von 0,0522 hat dieses Merkmal den geringsten Einfluss auf das Modell. Dies könnte bedeuten, dass die Anzahl der Spieler im Kader in Bezug auf die Zielvariable weniger relevant ist, zumindest im Kontext dieses spezifischen Datensatzes und Modells.\n",
    "    \n",
    "\n",
    "5. Prozentsatz der ausländischen Spieler (auslaender_prozent):\n",
    "\n",
    "    - Der Prozentsatz der ausländischen Spieler sticht mit einer Feature-Importance von 0,6539 deutlich hervor. Dieses Merkmal ist mit Abstand das wichtigste für das Modell und könnte stark mit dem Erfolg oder der Platzierung der Mannschaften korreliert sein. Ein hoher Anteil ausländischer Spieler könnte auf eine bessere internationale Qualität hinweisen oder andere Vorteile mit sich bringen, die sich positiv auf die Leistung der Mannschaft auswirken.\n",
    "\n",
    "**Zusammenfassung**\n",
    "\n",
    "Das AdaBoost-Modell zeigt, dass der Prozentsatz der ausländischen Spieler der wichtigste Faktor ist, der die Zielvariable beeinflusst, gefolgt vom Alter der Spieler und Gewicht. Höhe und Median der Spieleranzahl spielen eine untergeordnete Rolle. Diese Analyse kann Hinweise darauf geben, welche Faktoren in zukünftigen Modellen oder Entscheidungen stärker berücksichtigt werden sollten."
   ]
  },
  {
   "cell_type": "code",
   "execution_count": null,
   "id": "a2ddd362",
   "metadata": {},
   "outputs": [],
   "source": []
  }
 ],
 "metadata": {
  "kernelspec": {
   "display_name": "Python 3 (ipykernel)",
   "language": "python",
   "name": "python3"
  },
  "language_info": {
   "codemirror_mode": {
    "name": "ipython",
    "version": 3
   },
   "file_extension": ".py",
   "mimetype": "text/x-python",
   "name": "python",
   "nbconvert_exporter": "python",
   "pygments_lexer": "ipython3",
   "version": "3.9.7"
  }
 },
 "nbformat": 4,
 "nbformat_minor": 5
}
