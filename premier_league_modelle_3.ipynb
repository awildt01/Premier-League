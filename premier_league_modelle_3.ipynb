{
 "cells": [
  {
   "cell_type": "code",
   "execution_count": 23,
   "id": "05625d74",
   "metadata": {},
   "outputs": [],
   "source": [
    "import numpy as np\n",
    "import pandas as pd\n",
    "\n",
    "from sklearn.tree import DecisionTreeClassifier\n",
    "from sklearn.linear_model import LogisticRegression\n",
    "\n",
    "from sklearn.model_selection import train_test_split\n",
    "from sklearn.preprocessing  import MinMaxScaler\n",
    "\n",
    "import warnings\n",
    "warnings.filterwarnings(\"ignore\")"
   ]
  },
  {
   "cell_type": "markdown",
   "id": "80894570",
   "metadata": {},
   "source": [
    "### 1- Modellierungen"
   ]
  },
  {
   "cell_type": "code",
   "execution_count": 24,
   "id": "b44cc023",
   "metadata": {},
   "outputs": [
    {
     "data": {
      "text/html": [
       "<div>\n",
       "<style scoped>\n",
       "    .dataframe tbody tr th:only-of-type {\n",
       "        vertical-align: middle;\n",
       "    }\n",
       "\n",
       "    .dataframe tbody tr th {\n",
       "        vertical-align: top;\n",
       "    }\n",
       "\n",
       "    .dataframe thead th {\n",
       "        text-align: right;\n",
       "    }\n",
       "</style>\n",
       "<table border=\"1\" class=\"dataframe\">\n",
       "  <thead>\n",
       "    <tr style=\"text-align: right;\">\n",
       "      <th></th>\n",
       "      <th>year</th>\n",
       "      <th>team_placement</th>\n",
       "      <th>age</th>\n",
       "      <th>height</th>\n",
       "      <th>weight</th>\n",
       "    </tr>\n",
       "  </thead>\n",
       "  <tbody>\n",
       "    <tr>\n",
       "      <th>0</th>\n",
       "      <td>2003</td>\n",
       "      <td>1</td>\n",
       "      <td>40.515152</td>\n",
       "      <td>1.831212</td>\n",
       "      <td>74.848485</td>\n",
       "    </tr>\n",
       "    <tr>\n",
       "      <th>1</th>\n",
       "      <td>2003</td>\n",
       "      <td>2</td>\n",
       "      <td>43.129032</td>\n",
       "      <td>1.815806</td>\n",
       "      <td>76.709677</td>\n",
       "    </tr>\n",
       "    <tr>\n",
       "      <th>2</th>\n",
       "      <td>2003</td>\n",
       "      <td>3</td>\n",
       "      <td>40.000000</td>\n",
       "      <td>1.813590</td>\n",
       "      <td>78.256410</td>\n",
       "    </tr>\n",
       "    <tr>\n",
       "      <th>3</th>\n",
       "      <td>2003</td>\n",
       "      <td>4</td>\n",
       "      <td>40.605263</td>\n",
       "      <td>1.828684</td>\n",
       "      <td>75.540541</td>\n",
       "    </tr>\n",
       "    <tr>\n",
       "      <th>4</th>\n",
       "      <td>2003</td>\n",
       "      <td>5</td>\n",
       "      <td>41.000000</td>\n",
       "      <td>1.799615</td>\n",
       "      <td>74.000000</td>\n",
       "    </tr>\n",
       "    <tr>\n",
       "      <th>5</th>\n",
       "      <td>2003</td>\n",
       "      <td>6</td>\n",
       "      <td>40.607143</td>\n",
       "      <td>1.825926</td>\n",
       "      <td>75.037037</td>\n",
       "    </tr>\n",
       "    <tr>\n",
       "      <th>6</th>\n",
       "      <td>2003</td>\n",
       "      <td>7</td>\n",
       "      <td>42.968750</td>\n",
       "      <td>1.805937</td>\n",
       "      <td>75.656250</td>\n",
       "    </tr>\n",
       "    <tr>\n",
       "      <th>7</th>\n",
       "      <td>2003</td>\n",
       "      <td>8</td>\n",
       "      <td>42.666667</td>\n",
       "      <td>1.821053</td>\n",
       "      <td>77.631579</td>\n",
       "    </tr>\n",
       "    <tr>\n",
       "      <th>8</th>\n",
       "      <td>2003</td>\n",
       "      <td>9</td>\n",
       "      <td>41.909091</td>\n",
       "      <td>1.816061</td>\n",
       "      <td>76.666667</td>\n",
       "    </tr>\n",
       "    <tr>\n",
       "      <th>9</th>\n",
       "      <td>2003</td>\n",
       "      <td>10</td>\n",
       "      <td>42.769231</td>\n",
       "      <td>1.820769</td>\n",
       "      <td>76.076923</td>\n",
       "    </tr>\n",
       "  </tbody>\n",
       "</table>\n",
       "</div>"
      ],
      "text/plain": [
       "   year  team_placement        age    height     weight\n",
       "0  2003               1  40.515152  1.831212  74.848485\n",
       "1  2003               2  43.129032  1.815806  76.709677\n",
       "2  2003               3  40.000000  1.813590  78.256410\n",
       "3  2003               4  40.605263  1.828684  75.540541\n",
       "4  2003               5  41.000000  1.799615  74.000000\n",
       "5  2003               6  40.607143  1.825926  75.037037\n",
       "6  2003               7  42.968750  1.805937  75.656250\n",
       "7  2003               8  42.666667  1.821053  77.631579\n",
       "8  2003               9  41.909091  1.816061  76.666667\n",
       "9  2003              10  42.769231  1.820769  76.076923"
      ]
     },
     "execution_count": 24,
     "metadata": {},
     "output_type": "execute_result"
    }
   ],
   "source": [
    "mean_league_team = pd.read_csv(\"mean_league_teamv1.csv\")\n",
    "mean_league_team.head(10)"
   ]
  },
  {
   "cell_type": "markdown",
   "id": "67bf457a",
   "metadata": {},
   "source": [
    "### 2- Train und Valiedirung\n",
    "\n",
    "- year wird raus genommen wegen die Multikollinearität mit und age"
   ]
  },
  {
   "cell_type": "code",
   "execution_count": 25,
   "id": "30a3bf3b",
   "metadata": {},
   "outputs": [],
   "source": [
    "X = mean_league_team.drop(columns=['year','team_placement'])\n",
    "y = mean_league_team.team_placement\n",
    "\n",
    "X_train, X_valid, y_train, y_valid = train_test_split(X, y, test_size=0.33, random_state=42)"
   ]
  },
  {
   "cell_type": "code",
   "execution_count": 26,
   "id": "8687f36b",
   "metadata": {},
   "outputs": [
    {
     "name": "stdout",
     "output_type": "stream",
     "text": [
      "QTD LINHAS:  254\n"
     ]
    },
    {
     "data": {
      "text/html": [
       "<div>\n",
       "<style scoped>\n",
       "    .dataframe tbody tr th:only-of-type {\n",
       "        vertical-align: middle;\n",
       "    }\n",
       "\n",
       "    .dataframe tbody tr th {\n",
       "        vertical-align: top;\n",
       "    }\n",
       "\n",
       "    .dataframe thead th {\n",
       "        text-align: right;\n",
       "    }\n",
       "</style>\n",
       "<table border=\"1\" class=\"dataframe\">\n",
       "  <thead>\n",
       "    <tr style=\"text-align: right;\">\n",
       "      <th></th>\n",
       "      <th>age</th>\n",
       "      <th>height</th>\n",
       "      <th>weight</th>\n",
       "    </tr>\n",
       "  </thead>\n",
       "  <tbody>\n",
       "    <tr>\n",
       "      <th>0</th>\n",
       "      <td>40.515152</td>\n",
       "      <td>1.831212</td>\n",
       "      <td>74.848485</td>\n",
       "    </tr>\n",
       "    <tr>\n",
       "      <th>1</th>\n",
       "      <td>43.129032</td>\n",
       "      <td>1.815806</td>\n",
       "      <td>76.709677</td>\n",
       "    </tr>\n",
       "    <tr>\n",
       "      <th>2</th>\n",
       "      <td>40.000000</td>\n",
       "      <td>1.813590</td>\n",
       "      <td>78.256410</td>\n",
       "    </tr>\n",
       "    <tr>\n",
       "      <th>3</th>\n",
       "      <td>40.605263</td>\n",
       "      <td>1.828684</td>\n",
       "      <td>75.540541</td>\n",
       "    </tr>\n",
       "    <tr>\n",
       "      <th>4</th>\n",
       "      <td>41.000000</td>\n",
       "      <td>1.799615</td>\n",
       "      <td>74.000000</td>\n",
       "    </tr>\n",
       "  </tbody>\n",
       "</table>\n",
       "</div>"
      ],
      "text/plain": [
       "         age    height     weight\n",
       "0  40.515152  1.831212  74.848485\n",
       "1  43.129032  1.815806  76.709677\n",
       "2  40.000000  1.813590  78.256410\n",
       "3  40.605263  1.828684  75.540541\n",
       "4  41.000000  1.799615  74.000000"
      ]
     },
     "execution_count": 26,
     "metadata": {},
     "output_type": "execute_result"
    }
   ],
   "source": [
    "print(\"QTD LINHAS: \", len(X_train))\n",
    "X.head()"
   ]
  },
  {
   "cell_type": "markdown",
   "id": "9ac036c7",
   "metadata": {},
   "source": [
    "###  3- Base nomarlizierung\n",
    "- die Spalten age, height, weight werden in der gleiche Skala normalizirt."
   ]
  },
  {
   "cell_type": "code",
   "execution_count": 27,
   "id": "0ba02f10",
   "metadata": {},
   "outputs": [
    {
     "data": {
      "text/plain": [
       "<AxesSubplot:>"
      ]
     },
     "execution_count": 27,
     "metadata": {},
     "output_type": "execute_result"
    },
    {
     "data": {
      "image/png": "[encoded data removed]",
      "text/plain": [
       "<Figure size 1152x360 with 1 Axes>"
      ]
     },
     "metadata": {
      "needs_background": "light"
     },
     "output_type": "display_data"
    }
   ],
   "source": [
    "mean_league_team.drop(columns=['team_placement','year']).boxplot(figsize=(16,5))"
   ]
  },
  {
   "cell_type": "code",
   "execution_count": 28,
   "id": "133cedaa",
   "metadata": {},
   "outputs": [
    {
     "data": {
      "text/plain": [
       "array([[0.36817102, 0.59025927, 0.29791219],\n",
       "       [0.23193625, 0.58189161, 0.42245266],\n",
       "       [0.28352408, 0.7011449 , 0.23782687],\n",
       "       [0.88507755, 0.67429125, 0.37781785],\n",
       "       [0.90087703, 0.38332929, 0.23964764]])"
      ]
     },
     "execution_count": 28,
     "metadata": {},
     "output_type": "execute_result"
    }
   ],
   "source": [
    "scaler = MinMaxScaler()\n",
    "X_treino_scaler = scaler.fit_transform(X_train)\n",
    "X_teste_scaler = scaler.transform(X_valid)\n",
    "X_teste_scaler[:5]"
   ]
  },
  {
   "cell_type": "code",
   "execution_count": 29,
   "id": "7a860adb",
   "metadata": {},
   "outputs": [
    {
     "data": {
      "text/html": [
       "<div>\n",
       "<style scoped>\n",
       "    .dataframe tbody tr th:only-of-type {\n",
       "        vertical-align: middle;\n",
       "    }\n",
       "\n",
       "    .dataframe tbody tr th {\n",
       "        vertical-align: top;\n",
       "    }\n",
       "\n",
       "    .dataframe thead th {\n",
       "        text-align: right;\n",
       "    }\n",
       "</style>\n",
       "<table border=\"1\" class=\"dataframe\">\n",
       "  <thead>\n",
       "    <tr style=\"text-align: right;\">\n",
       "      <th></th>\n",
       "      <th>age</th>\n",
       "      <th>height</th>\n",
       "      <th>weight</th>\n",
       "    </tr>\n",
       "  </thead>\n",
       "  <tbody>\n",
       "    <tr>\n",
       "      <th>0</th>\n",
       "      <td>0.368171</td>\n",
       "      <td>0.590259</td>\n",
       "      <td>0.297912</td>\n",
       "    </tr>\n",
       "    <tr>\n",
       "      <th>1</th>\n",
       "      <td>0.231936</td>\n",
       "      <td>0.581892</td>\n",
       "      <td>0.422453</td>\n",
       "    </tr>\n",
       "    <tr>\n",
       "      <th>2</th>\n",
       "      <td>0.283524</td>\n",
       "      <td>0.701145</td>\n",
       "      <td>0.237827</td>\n",
       "    </tr>\n",
       "    <tr>\n",
       "      <th>3</th>\n",
       "      <td>0.885078</td>\n",
       "      <td>0.674291</td>\n",
       "      <td>0.377818</td>\n",
       "    </tr>\n",
       "    <tr>\n",
       "      <th>4</th>\n",
       "      <td>0.900877</td>\n",
       "      <td>0.383329</td>\n",
       "      <td>0.239648</td>\n",
       "    </tr>\n",
       "  </tbody>\n",
       "</table>\n",
       "</div>"
      ],
      "text/plain": [
       "        age    height    weight\n",
       "0  0.368171  0.590259  0.297912\n",
       "1  0.231936  0.581892  0.422453\n",
       "2  0.283524  0.701145  0.237827\n",
       "3  0.885078  0.674291  0.377818\n",
       "4  0.900877  0.383329  0.239648"
      ]
     },
     "execution_count": 29,
     "metadata": {},
     "output_type": "execute_result"
    }
   ],
   "source": [
    "## daten normalisiert  dataframe\n",
    "pd.DataFrame(X_teste_scaler,columns=X.columns).head()"
   ]
  },
  {
   "cell_type": "markdown",
   "id": "43192977",
   "metadata": {},
   "source": [
    "## Logistik Regression"
   ]
  },
  {
   "cell_type": "code",
   "execution_count": 33,
   "id": "3a326461",
   "metadata": {},
   "outputs": [
    {
     "data": {
      "text/plain": [
       "LogisticRegression(random_state=0)"
      ]
     },
     "execution_count": 33,
     "metadata": {},
     "output_type": "execute_result"
    }
   ],
   "source": [
    "LR = LogisticRegression(random_state=0)\n",
    "LR.fit(X_train,y_train)"
   ]
  },
  {
   "cell_type": "code",
   "execution_count": 34,
   "id": "61aa44cd",
   "metadata": {},
   "outputs": [
    {
     "data": {
      "text/plain": [
       "0.015873015873015872"
      ]
     },
     "execution_count": 34,
     "metadata": {},
     "output_type": "execute_result"
    }
   ],
   "source": [
    "LR.score(X_valid,y_valid)"
   ]
  },
  {
   "cell_type": "markdown",
   "id": "eb94a920",
   "metadata": {},
   "source": [
    "## Modelltraining mit den normalisierten Daten"
   ]
  },
  {
   "cell_type": "code",
   "execution_count": 35,
   "id": "30fb7582",
   "metadata": {},
   "outputs": [
    {
     "data": {
      "text/plain": [
       "0.015873015873015872"
      ]
     },
     "execution_count": 35,
     "metadata": {},
     "output_type": "execute_result"
    }
   ],
   "source": [
    "LR_scaler = LogisticRegression(random_state=0)\n",
    "LR_scaler.fit(X_treino_scaler, y_train)\n",
    "LR_scaler.score(X_teste_scaler, y_valid)"
   ]
  },
  {
   "cell_type": "markdown",
   "id": "6a1be1ed",
   "metadata": {},
   "source": [
    "## DecisionTreeClassifier"
   ]
  },
  {
   "cell_type": "code",
   "execution_count": 36,
   "id": "7a049e87",
   "metadata": {},
   "outputs": [
    {
     "data": {
      "text/plain": [
       "0.03968253968253968"
      ]
     },
     "execution_count": 36,
     "metadata": {},
     "output_type": "execute_result"
    }
   ],
   "source": [
    "DT = DecisionTreeClassifier(random_state=0).fit(X_train, y_train)\n",
    "\n",
    "DT.score(X_teste, y_teste)"
   ]
  },
  {
   "cell_type": "code",
   "execution_count": 37,
   "id": "97f54837",
   "metadata": {},
   "outputs": [
    {
     "data": {
      "text/plain": [
       "0.03968253968253968"
      ]
     },
     "execution_count": 37,
     "metadata": {},
     "output_type": "execute_result"
    }
   ],
   "source": [
    "DT_scaler = DecisionTreeClassifier(random_state=0).fit(X_treino_scaler, y_train)\n",
    "DT_scaler.score(X_teste_scaler, y_valid)"
   ]
  },
  {
   "cell_type": "markdown",
   "id": "be6f836a",
   "metadata": {},
   "source": [
    "## 4- Die Zwischen Ergbnisse sind unzufrieden\n",
    "-  Die Daten müssen remodeliert werden.\n",
    "-  Es gibt 20 Zielvariable für eine Kleine Base von Training Daten\n",
    "-  Die Zielvariablen mussen grupiert werden."
   ]
  },
  {
   "cell_type": "code",
   "execution_count": null,
   "id": "409fc466",
   "metadata": {},
   "outputs": [],
   "source": []
  }
 ],
 "metadata": {
  "kernelspec": {
   "display_name": "Python 3 (ipykernel)",
   "language": "python",
   "name": "python3"
  },
  "language_info": {
   "codemirror_mode": {
    "name": "ipython",
    "version": 3
   },
   "file_extension": ".py",
   "mimetype": "text/x-python",
   "name": "python",
   "nbconvert_exporter": "python",
   "pygments_lexer": "ipython3",
   "version": "3.10.4"
  }
 },
 "nbformat": 4,
 "nbformat_minor": 5
}
