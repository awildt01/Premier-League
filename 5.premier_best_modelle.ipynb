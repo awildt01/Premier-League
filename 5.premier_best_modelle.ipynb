{
 "cells": [
  {
   "cell_type": "code",
   "execution_count": 118,
   "id": "7b6214ca",
   "metadata": {},
   "outputs": [],
   "source": [
    "import pandas as pd\n",
    "import numpy as np\n",
    "from sklearn.metrics import classification_report,confusion_matrix,plot_confusion_matrix,f1_score,accuracy_score,precision_score\n",
    "import matplotlib.pyplot as plt\n",
    "import seaborn as sns\n",
    "from time import time\n",
    "from IPython.display import display\n",
    "\n",
    "# import Modellen\n",
    "\n",
    "from sklearn.tree import DecisionTreeClassifier\n",
    "from sklearn.linear_model import LogisticRegression\n",
    "from sklearn.model_selection import train_test_split\n",
    "from sklearn.preprocessing import MinMaxScaler\n",
    "import warnings\n",
    "warnings.filterwarnings(\"ignore\")\n",
    "\n"
   ]
  },
  {
   "cell_type": "code",
   "execution_count": 108,
   "id": "e131078b",
   "metadata": {},
   "outputs": [
    {
     "data": {
      "text/html": [
       "<div>\n",
       "<style scoped>\n",
       "    .dataframe tbody tr th:only-of-type {\n",
       "        vertical-align: middle;\n",
       "    }\n",
       "\n",
       "    .dataframe tbody tr th {\n",
       "        vertical-align: top;\n",
       "    }\n",
       "\n",
       "    .dataframe thead th {\n",
       "        text-align: right;\n",
       "    }\n",
       "</style>\n",
       "<table border=\"1\" class=\"dataframe\">\n",
       "  <thead>\n",
       "    <tr style=\"text-align: right;\">\n",
       "      <th></th>\n",
       "      <th>year</th>\n",
       "      <th>team_placement_2</th>\n",
       "      <th>height</th>\n",
       "      <th>weight</th>\n",
       "      <th>age</th>\n",
       "      <th>spieleranzahl</th>\n",
       "      <th>spieler_median</th>\n",
       "      <th>auslaender_prozent</th>\n",
       "    </tr>\n",
       "  </thead>\n",
       "  <tbody>\n",
       "    <tr>\n",
       "      <th>0</th>\n",
       "      <td>2003</td>\n",
       "      <td>0</td>\n",
       "      <td>1.818743</td>\n",
       "      <td>76.018072</td>\n",
       "      <td>40.976190</td>\n",
       "      <td>168</td>\n",
       "      <td>33.600000</td>\n",
       "      <td>63.095238</td>\n",
       "    </tr>\n",
       "    <tr>\n",
       "      <th>1</th>\n",
       "      <td>2003</td>\n",
       "      <td>2</td>\n",
       "      <td>1.812329</td>\n",
       "      <td>76.712329</td>\n",
       "      <td>42.301370</td>\n",
       "      <td>73</td>\n",
       "      <td>24.333333</td>\n",
       "      <td>54.810496</td>\n",
       "    </tr>\n",
       "    <tr>\n",
       "      <th>2</th>\n",
       "      <td>2004</td>\n",
       "      <td>2</td>\n",
       "      <td>1.820952</td>\n",
       "      <td>76.904762</td>\n",
       "      <td>41.602410</td>\n",
       "      <td>84</td>\n",
       "      <td>28.000000</td>\n",
       "      <td>47.945205</td>\n",
       "    </tr>\n",
       "    <tr>\n",
       "      <th>3</th>\n",
       "      <td>2005</td>\n",
       "      <td>0</td>\n",
       "      <td>1.827250</td>\n",
       "      <td>76.925000</td>\n",
       "      <td>39.031250</td>\n",
       "      <td>160</td>\n",
       "      <td>32.000000</td>\n",
       "      <td>65.662651</td>\n",
       "    </tr>\n",
       "    <tr>\n",
       "      <th>4</th>\n",
       "      <td>2005</td>\n",
       "      <td>2</td>\n",
       "      <td>1.824366</td>\n",
       "      <td>77.070423</td>\n",
       "      <td>39.295775</td>\n",
       "      <td>71</td>\n",
       "      <td>23.666667</td>\n",
       "      <td>56.176471</td>\n",
       "    </tr>\n",
       "  </tbody>\n",
       "</table>\n",
       "</div>"
      ],
      "text/plain": [
       "   year  team_placement_2    height     weight        age  spieleranzahl  \\\n",
       "0  2003                 0  1.818743  76.018072  40.976190            168   \n",
       "1  2003                 2  1.812329  76.712329  42.301370             73   \n",
       "2  2004                 2  1.820952  76.904762  41.602410             84   \n",
       "3  2005                 0  1.827250  76.925000  39.031250            160   \n",
       "4  2005                 2  1.824366  77.070423  39.295775             71   \n",
       "\n",
       "   spieler_median  auslaender_prozent  \n",
       "0       33.600000           63.095238  \n",
       "1       24.333333           54.810496  \n",
       "2       28.000000           47.945205  \n",
       "3       32.000000           65.662651  \n",
       "4       23.666667           56.176471  "
      ]
     },
     "execution_count": 108,
     "metadata": {},
     "output_type": "execute_result"
    }
   ],
   "source": [
    "median_klassifikation_team = pd.read_csv(\"median_klassifikation_team_v2.csv\")\n",
    "median_klassifikation_team.head()"
   ]
  },
  {
   "cell_type": "code",
   "execution_count": 121,
   "id": "0aad735c",
   "metadata": {},
   "outputs": [
    {
     "data": {
      "text/plain": [
       "2    15\n",
       "0    10\n",
       "1     4\n",
       "Name: team_placement_2, dtype: int64"
      ]
     },
     "execution_count": 121,
     "metadata": {},
     "output_type": "execute_result"
    }
   ],
   "source": [
    "median_klassifikation_team['team_placement_2'].value_counts()"
   ]
  },
  {
   "cell_type": "markdown",
   "id": "09d4e1e4",
   "metadata": {},
   "source": [
    "**Shuffle und Split Data**\n",
    "\n",
    "Mischen und Teilen von Daten\n",
    "\n",
    "- Ich werde nun die Daten (sowohl Features als auch ihre Bezeichnungen) in Trainings- und Testdatensätze aufteilen. 70 % der Daten werden für Training und 30 % für Tests verwendet."
   ]
  },
  {
   "cell_type": "code",
   "execution_count": 109,
   "id": "bac6a384",
   "metadata": {},
   "outputs": [],
   "source": [
    "X = median_klassifikation_team.drop(columns=['year','team_placement_2','spieleranzahl'])\n",
    "y = median_klassifikation_team.team_placement_2\n",
    "\n",
    "X_train, X_valid, y_train, y_valid = train_test_split(X, y, test_size=0.3, random_state=42)"
   ]
  },
  {
   "cell_type": "markdown",
   "id": "92cdc301",
   "metadata": {},
   "source": [
    "**Normalisierung der Daten**\n",
    "\n",
    "Viele maschinelle Lernalgorithmen funktionieren besser, wenn numerische Eingabevariablen auf einen Standardbereich skaliert werden.  **Die Normalisierung** skaliert jede Eingabevariable separat auf den Bereich 0-1. Das ist der Bereich für Fließkommawerte, in dem wir die größte Genauigkeit haben.\n",
    "\n",
    "Die Skalenunterschied für Eingabevariablen wirkt sich nicht auf alle Algorithmen für maschinelles Lernen aus.\n",
    "Betroffen sind beispielsweise Algorithmen, die zu einem Modell passen, das eine gewichtete Summe von Eingabevariablen verwendet, wie lineare Regression, logistische Regression und künstliche neuronale Netze.\n",
    "\n",
    "Ich werde die Standardkonfiguration verwenden und Werte auf den Bereich 0 und 1 skalieren. Zuerst wird eine MinMaxScaler- Instanz mit Standard-Hyperparametern definiert. Nach der Definition kann ich die Funktion fit_transform() aufrufen und an unseren Datensatz übergeben, um eine transformierte Version unseres Datensatzes zu erstellen."
   ]
  },
  {
   "cell_type": "code",
   "execution_count": 110,
   "id": "240ebf76",
   "metadata": {},
   "outputs": [
    {
     "data": {
      "text/plain": [
       "array([[ 0.86218388,  0.3506738 , -0.01679187,  0.425     ,  0.84947518],\n",
       "       [ 0.43683838,  0.25076658,  0.44387251,  0.75      ,  0.63304309],\n",
       "       [ 0.4176899 ,  0.35812842,  0.49784713,  0.62857143,  1.02902335],\n",
       "       [ 1.29434972,  1.02837531,  0.27246464,  0.30357143,  0.64938549],\n",
       "       [ 0.96122339,  0.2885317 ,  0.63492912,  0.375     , -0.07313263],\n",
       "       [ 0.47820059,  0.43839182,  0.51809296,  0.74642857,  0.80986897],\n",
       "       [ 0.66213831,  0.29163429,  0.17453573,  0.26428571,  0.82333688],\n",
       "       [ 0.37681693,  0.3947478 ,  0.9196206 ,  0.53214286,  0.87476868],\n",
       "       [ 0.67787888,  0.23393213, -0.01691787,  0.47321429,  0.60715022]])"
      ]
     },
     "execution_count": 110,
     "metadata": {},
     "output_type": "execute_result"
    }
   ],
   "source": [
    "scaler = MinMaxScaler()\n",
    "X_treino_scaler = scaler.fit_transform(X_train)\n",
    "X_teste_scaler = scaler.transform(X_valid)\n",
    "X_teste_scaler"
   ]
  },
  {
   "cell_type": "markdown",
   "id": "a1fa2c18",
   "metadata": {},
   "source": [
    "### Überwachten der Modellen"
   ]
  },
  {
   "cell_type": "markdown",
   "id": "cb3e9631",
   "metadata": {},
   "source": [
    "**1.Logistische Regression**\n",
    "\n",
    "Logistische Regression schätzt die Wahrscheinlichkeit des Auftretens eines Ereignisses, wie z. B. gewählt oder nicht gewählt, basierend auf einem bestimmten Datenbestand unabhängiger Variablen. Da das Ergebnis eine Wahrscheinlichkeit ist, ist die abhängige Variable auf einen Wert zwischen 0 und 1 beschränkt. Bei der logistischen Regression wird eine Logit-Transformation auf die Odds angewendet – also die Wahrscheinlichkeit des Erfolgs dividiert durch die Wahrscheinlichkeit des Fehlschlagens. Dies wird allgemein auch als Log-Odds oder natürlicher Logarithmus der Odds bezeichnet, und diese logistische Funktion wird durch die folgenden Formeln dargestellt:\n",
    "\n",
    " **Logit(pi) = 1/(1+ exp(-pi))**\n",
    "\n",
    " **ln(pi/(1-pi)) = Beta_0 + Beta_1*X_1 + … + B_k*K_k**\n",
    "\n",
    "\n",
    "Vorteile:\n",
    "\n",
    "- Logistische Regression wird häufig verwendet, da sie äußerst effizient ist und keine großen Mengen an Rechenressourcen benötigt. Sie kann einfach interpretiert werden und benötigt keine Skalierung von Eingabe-Funktionen.\n",
    "\n",
    "\n",
    "Nachteile:\n",
    "\n",
    "- Logistische Regression kann auch für Überanpassung anfällig sein, insbesondere wenn es eine große Anzahl an Prädiktorvariablen im Modell gibt. Regularisierung wird normalerweise verwendet, um die Parameter großer Koeffizienten zu penalisieren, wenn das Modell unter hoher Dimensionalität leidet."
   ]
  },
  {
   "cell_type": "markdown",
   "id": "f1b768d6",
   "metadata": {},
   "source": [
    "**2.Entscheidungsbäume**"
   ]
  },
  {
   "cell_type": "markdown",
   "id": "6ae48d4b",
   "metadata": {},
   "source": [
    "Ein Entscheidungsbaum ist ein nichtparametrischer überwachter Lernalgorithmus, der sowohl für Klassifizierungs- als auch für Regressionsaufgaben verwendet wird. Er verfügt über eine hierarchische, baumartige Struktur, die aus einem Wurzelknoten, Zweigen, internen Knoten und Blattknoten besteht.\n",
    "\n",
    "\n",
    "Vorteile :\n",
    "\n",
    "- Entscheidungsbäume kann mit kategorialen und numerischen Daten umgehen.\n",
    "- Sie erfordern nicht viel Datenvorverarbeitung und kann Daten verarbeiten, die nicht normalisiert oder für maschinelles Lernen codiert wurden.\n",
    "- Einfach zu verstehen und zu interpretieren.\n",
    "\n",
    "Nachteile:\n",
    "\n",
    "- Komplexe Entscheidungsbäume lassen sich nicht gut auf die Daten verallgemeinern und können zu einer Überanpassung führen.\n",
    "- Instabil, da kleine Abweichungen in den Daten zu einem anderen Entscheidungsbaum führen können. Daher werden sie normalerweise in einem Ensemble (wie Random Forests) verwendet, um Robustheit aufzubauen."
   ]
  },
  {
   "cell_type": "markdown",
   "id": "f2338562",
   "metadata": {},
   "source": [
    "**3.Support Vector Machines (SVM)**"
   ]
  },
  {
   "cell_type": "markdown",
   "id": "364c2d08",
   "metadata": {},
   "source": [
    "Die SVM wird gern für Klassifizierungsprobleme herangezogen, also um Datenpunkte in Klassen oder Gruppen einzuteilen. Hierzu wird für n-dimensionale  Punktemengen unterschiedlicher Kategorien eine Trennebene errechnet, die den maximalen Abstand zu den nächsten Punkten der zu trennender Kategorie aufweist. \n",
    "\n",
    "SVMs wurden Aufgrund ihrer Wirksamkeit bei hoher Dimensionalität ausgewählt. Außerdem ist unser Datensatz nicht so groß.\n",
    "\n",
    "Vorteile:\n",
    "- Effektiv in hochdimensionalen Räumen oder wenn viele Features vorhanden sind. Kernelfunktionen können zur Anpassung an unterschiedlichen Fällen verwendet und bei Bedarf vollständig angepasst werden. Somit sind SVMs vielseitig einsetzbar.\n",
    "\n",
    "Nachteile:\n",
    "- Funktioniert nicht gut mit großen Datensätzen. Liefert keine direkten Wahrscheinlichkeitsschätzungen.\n",
    "\n",
    "\n"
   ]
  },
  {
   "cell_type": "markdown",
   "id": "4ac3780d",
   "metadata": {},
   "source": [
    "**4.Ensemble methods: AdaBoost**"
   ]
  },
  {
   "cell_type": "markdown",
   "id": "01cea42f",
   "metadata": {},
   "source": [
    "AdaBoost (adaptives Boosting) ist ein Algorithmus für das Ensemble-Lernen, der für die Klassifikation oder Regression verwendet werden kann. \n",
    "\n",
    "Bei jedem Trainingsdurchlauf wird ein neuer schwacher Lerner zum Ensemble hinzugefügt und ein Gewichtsvektor wird eingestellt, der sich auf Beispiele konzentriert, die im vorherigen Durchlauf falsch klassifiziert wurden. Das Ergebnis ist ein Klassifizierer, der über eine höhere Genauigkeit verfügt, als die Klassifizierer des schwachen Lerners.\n",
    "https://de.mathworks.com/discovery/adaboost.html.\n",
    "\n",
    "\n",
    "Ensemble-Methoden gelten als qualitativ hochwertige Klassifikatoren und adaboost ist einer der beliebtesten Boosting-Algorithmen.Es gibt auch eine Klassenungleichgewicht in dem Datensatz gegen das Boosting robust sein könnte.\n",
    "\n",
    "Vorteile:\n",
    "\n",
    "- Ensemble-Methoden und einschließlich Adaboost sind robuster als einzelne Schätzer und haben eine verbesserte Generalisierbarkeit. Einfache Modelle können kombiniert werden, um ein komplexes Modell zu erstellen, das rechenschnell ist.\n",
    "\n",
    "- Adaboos verwendet standardmäßig einen Entscheidungsstumpf, d.h. einen Entscheidungsbaum der Tiefe 1, als Basisklassifikator, der kategoriale und numerische Daten verarbeiten kann. Schwache Lerner sind relativ schneller zu trainieren, sodass die Datensatzgröße kein Problem für den Algorithmus darstellt.\n",
    "\n",
    "Nachteile::\n",
    "- Wenn wir einen voreingenommenen zugrunde liegenden Klassifikator haben, führt dies zu einem voreingenommenen verstärkten Modell.\n",
    " "
   ]
  },
  {
   "cell_type": "markdown",
   "id": "fbe77e88",
   "metadata": {},
   "source": [
    "### Metriken: "
   ]
  },
  {
   "cell_type": "markdown",
   "id": "d5846b30",
   "metadata": {},
   "source": [
    "**accuracy**\n",
    "\n",
    "Mit der accuracy können wir den Anteil der Korrekt vorhergesagten Labels anzeigen\n",
    "\n",
    "Die Klassifizierungsgenauigkeit beinhaltet zunächst die Verwendung eines Klassifizierungsmodells, um eine Vorhersage für jedes Beispiel in einem Testdatensatz zu treffen. Die Vorhersagen werden dann mit den bekannten Bezeichnungen für diese Beispiele im Testsatz verglichen. Die Genauigkeit wird dann als der Anteil der Beispiele in der Testreihe berechnet, die richtig vorhergesagt wurden, dividiert durch alle Vorhersagen, die in der Testreihe gemacht wurden.\n",
    "\n",
    "**Genauigkeit = Korrekte Vorhersagen / Gesamte Vorhersagen**\n",
    "\n",
    "Wenn die Klassenverteilung unausgewogenen sind, kann die Genauigkeit zu einem unzuverlässigen Maß für die Modellleistung werden."
   ]
  },
  {
   "cell_type": "markdown",
   "id": "8d44b7c4",
   "metadata": {},
   "source": [
    "**F-beta-score**\n",
    "\n",
    "Das F-Maß gleicht die Präzision und den Recall aus.\n",
    "\n",
    "Bei einigen Problemen könnten wir an einem F-Maß interessiert sein, bei dem mehr Wert auf Präzision gelegt wird, z.B. wenn es wichtiger ist, falsch positive Ergebnisse zu minimieren, falsch negative jedoch immer noch wichtig sind.\n",
    "\n",
    "Bei anderen Problemen könnten wir an einem F-Maß interessiert sein, bei dem der recall mehr Aufmerksamkeit geschenkt wird, z. B. wenn es wichtiger ist, falsch negative Ergebnisse zu minimieren, aber falsch positive Ergebnisse immer noch wichtig sind.\n",
    "\n",
    "Die Lösung ist das Fbeta-Maß.\n",
    "\n",
    "Das Fbeta-Measure ist eine Abstraktion des F-Maßes, bei der das Gleichgewicht zwischen Präzision und Recall bei der Berechnung des harmonischen Mittelwerts durch einen Koeffizienten namens Beta gesteuert wird .\n",
    "\n",
    "**Fbeta = ((1 + beta^2) * Präzision * recall) / (beta^2 * Präzision + recall)**\n",
    "\n",
    "\n",
    "Drei gängige Werte für den Beta-Parameter sind wie folgt:\n",
    "\n",
    "* F.-Measure (beta=0.5): Mehr Gewicht auf Präzision, weniger Gewicht auf recall\n",
    "* F-Measure (beta=1.0): Ausbalancierung des Gewichts auf Precision und Recall*\n",
    "* F-Measure (beta=2.0): Weniger Gewicht auf Präzision, mehr Gewicht auf recall"
   ]
  },
  {
   "cell_type": "markdown",
   "id": "1ce1230f",
   "metadata": {},
   "source": [
    "### Erstellen einer Trainings- und Vorhersagepipeline\n",
    "\n",
    "Um die Leistung jedes von uns ausgewählten Modells richtig zu bewerten, ist es wichtig, eine Trainings- und Vorhersagepipeline zu erstellen, so kann ich Modelle schnell und effektiv mit unterschiedlichen Größen von Trainingsdaten zu trainieren und Vorhersagen für die Testdaten durchzuführen."
   ]
  },
  {
   "cell_type": "code",
   "execution_count": 111,
   "id": "fd86de01",
   "metadata": {},
   "outputs": [],
   "source": [
    "from sklearn.metrics import classification_report,confusion_matrix,plot_confusion_matrix,f1_score,accuracy_score\n",
    "\n",
    "def train_predict(learner, X_train, y_train, X_valid, y_valid): \n",
    "    '''\n",
    "    inputs:\n",
    "       - Learner: der zu trainierende und vorherzusagende Lernalgorithmus\n",
    "       - X_train: features training set\n",
    "       - y_train: Zielvariable training set\n",
    "       - X_test: features testing set\n",
    "       - y_test: Zielvariable testing set\n",
    "    '''\n",
    "    \n",
    "    results = {}\n",
    "    \n",
    "    # Fit der learner mit den  training data \n",
    "    start = time() #  start time\n",
    "    learner = learner.fit(X_train,y_train)\n",
    "    end = time() # end time\n",
    "    \n",
    "    # berechnung training time\n",
    "    results['train_time'] = end - start\n",
    "        \n",
    "    # ZU predictions on the test set,\n",
    "    # then get predictions on samples\n",
    "    start = time() # Get start time\n",
    "    predictions = learner.predict(X_valid)\n",
    "    end = time() # Get end time\n",
    "    \n",
    "    # berechnungthe total prediction time\n",
    "    results['pred_time'] = end - start\n",
    "            \n",
    "    # accuracy\n",
    "    results['acc_score'] = accuracy_score(y_valid,predictions)\n",
    "    \n",
    "    #results['f1'] = f1_score(y_valid,predictions)\n",
    "    results['F_marcro'] = fbeta_score(y_valid,predictions,beta=0.5,average='macro')\n",
    "    \n",
    "        \n",
    "    # Return the results\n",
    "    return results"
   ]
  },
  {
   "cell_type": "code",
   "execution_count": 112,
   "id": "96fedfcf",
   "metadata": {},
   "outputs": [],
   "source": [
    "# Importieren vier die drei überwachten Lernmodelle aus sklearn\n",
    "from sklearn.tree import DecisionTreeClassifier\n",
    "from sklearn.svm import SVC\n",
    "from sklearn.ensemble import AdaBoostClassifier\n",
    "from sklearn.metrics import fbeta_score, accuracy_score\n",
    "# Initialisieren Sie die drei Modelle, die Zufallszustände werden auf 101 gesetzt, \n",
    "#damit wir wissen, wie wir das Modell später reproduzieren können\n",
    "clf_A = DecisionTreeClassifier(random_state=101)\n",
    "clf_B = SVC(random_state = 101)\n",
    "clf_C = AdaBoostClassifier(random_state = 101)\n",
    "clf_D = LogisticRegression(random_state = 101)\n",
    "\n",
    "samples = len(X_train)\n",
    "\n",
    "\n",
    "results = {}\n",
    "for clf in [clf_A, clf_B, clf_C,clf_D]:\n",
    "    clf_name = clf.__class__.__name__\n",
    "    results[clf_name] = {}\n",
    "    for i in [samples]:\n",
    "        results[clf_name][i]= \\\n",
    "        train_predict(clf, X_train, y_train, X_valid, y_valid)\n",
    "        "
   ]
  },
  {
   "cell_type": "markdown",
   "id": "4833f070",
   "metadata": {},
   "source": [
    "### Modellbewertung:\n",
    "Alle vier naive Algorithmen werden traniert und die Algorithmus-Metriken accuracy und F-marcro werden dann verglichen. Der beste Algothimus war AdaBoostClassifier mit einer accuracy von 0.777778 und 0.534852 F_marcro\t"
   ]
  },
  {
   "cell_type": "code",
   "execution_count": 113,
   "id": "a176dc14",
   "metadata": {},
   "outputs": [
    {
     "name": "stdout",
     "output_type": "stream",
     "text": [
      "DecisionTreeClassifier\n"
     ]
    },
    {
     "data": {
      "text/html": [
       "<div>\n",
       "<style scoped>\n",
       "    .dataframe tbody tr th:only-of-type {\n",
       "        vertical-align: middle;\n",
       "    }\n",
       "\n",
       "    .dataframe tbody tr th {\n",
       "        vertical-align: top;\n",
       "    }\n",
       "\n",
       "    .dataframe thead th {\n",
       "        text-align: right;\n",
       "    }\n",
       "</style>\n",
       "<table border=\"1\" class=\"dataframe\">\n",
       "  <thead>\n",
       "    <tr style=\"text-align: right;\">\n",
       "      <th></th>\n",
       "      <th>ergebnisse</th>\n",
       "    </tr>\n",
       "  </thead>\n",
       "  <tbody>\n",
       "    <tr>\n",
       "      <th>train_time</th>\n",
       "      <td>0.001982</td>\n",
       "    </tr>\n",
       "    <tr>\n",
       "      <th>pred_time</th>\n",
       "      <td>0.000000</td>\n",
       "    </tr>\n",
       "    <tr>\n",
       "      <th>acc_score</th>\n",
       "      <td>0.666667</td>\n",
       "    </tr>\n",
       "    <tr>\n",
       "      <th>F_marcro</th>\n",
       "      <td>0.492899</td>\n",
       "    </tr>\n",
       "  </tbody>\n",
       "</table>\n",
       "</div>"
      ],
      "text/plain": [
       "            ergebnisse\n",
       "train_time    0.001982\n",
       "pred_time     0.000000\n",
       "acc_score     0.666667\n",
       "F_marcro      0.492899"
      ]
     },
     "metadata": {},
     "output_type": "display_data"
    },
    {
     "name": "stdout",
     "output_type": "stream",
     "text": [
      "SVC\n"
     ]
    },
    {
     "data": {
      "text/html": [
       "<div>\n",
       "<style scoped>\n",
       "    .dataframe tbody tr th:only-of-type {\n",
       "        vertical-align: middle;\n",
       "    }\n",
       "\n",
       "    .dataframe tbody tr th {\n",
       "        vertical-align: top;\n",
       "    }\n",
       "\n",
       "    .dataframe thead th {\n",
       "        text-align: right;\n",
       "    }\n",
       "</style>\n",
       "<table border=\"1\" class=\"dataframe\">\n",
       "  <thead>\n",
       "    <tr style=\"text-align: right;\">\n",
       "      <th></th>\n",
       "      <th>ergebnisse</th>\n",
       "    </tr>\n",
       "  </thead>\n",
       "  <tbody>\n",
       "    <tr>\n",
       "      <th>train_time</th>\n",
       "      <td>0.002012</td>\n",
       "    </tr>\n",
       "    <tr>\n",
       "      <th>pred_time</th>\n",
       "      <td>0.001977</td>\n",
       "    </tr>\n",
       "    <tr>\n",
       "      <th>acc_score</th>\n",
       "      <td>0.333333</td>\n",
       "    </tr>\n",
       "    <tr>\n",
       "      <th>F_marcro</th>\n",
       "      <td>0.128205</td>\n",
       "    </tr>\n",
       "  </tbody>\n",
       "</table>\n",
       "</div>"
      ],
      "text/plain": [
       "            ergebnisse\n",
       "train_time    0.002012\n",
       "pred_time     0.001977\n",
       "acc_score     0.333333\n",
       "F_marcro      0.128205"
      ]
     },
     "metadata": {},
     "output_type": "display_data"
    },
    {
     "name": "stdout",
     "output_type": "stream",
     "text": [
      "AdaBoostClassifier\n"
     ]
    },
    {
     "data": {
      "text/html": [
       "<div>\n",
       "<style scoped>\n",
       "    .dataframe tbody tr th:only-of-type {\n",
       "        vertical-align: middle;\n",
       "    }\n",
       "\n",
       "    .dataframe tbody tr th {\n",
       "        vertical-align: top;\n",
       "    }\n",
       "\n",
       "    .dataframe thead th {\n",
       "        text-align: right;\n",
       "    }\n",
       "</style>\n",
       "<table border=\"1\" class=\"dataframe\">\n",
       "  <thead>\n",
       "    <tr style=\"text-align: right;\">\n",
       "      <th></th>\n",
       "      <th>ergebnisse</th>\n",
       "    </tr>\n",
       "  </thead>\n",
       "  <tbody>\n",
       "    <tr>\n",
       "      <th>train_time</th>\n",
       "      <td>0.042941</td>\n",
       "    </tr>\n",
       "    <tr>\n",
       "      <th>pred_time</th>\n",
       "      <td>0.005999</td>\n",
       "    </tr>\n",
       "    <tr>\n",
       "      <th>acc_score</th>\n",
       "      <td>0.777778</td>\n",
       "    </tr>\n",
       "    <tr>\n",
       "      <th>F_marcro</th>\n",
       "      <td>0.534852</td>\n",
       "    </tr>\n",
       "  </tbody>\n",
       "</table>\n",
       "</div>"
      ],
      "text/plain": [
       "            ergebnisse\n",
       "train_time    0.042941\n",
       "pred_time     0.005999\n",
       "acc_score     0.777778\n",
       "F_marcro      0.534852"
      ]
     },
     "metadata": {},
     "output_type": "display_data"
    },
    {
     "name": "stdout",
     "output_type": "stream",
     "text": [
      "LogisticRegression\n"
     ]
    },
    {
     "data": {
      "text/html": [
       "<div>\n",
       "<style scoped>\n",
       "    .dataframe tbody tr th:only-of-type {\n",
       "        vertical-align: middle;\n",
       "    }\n",
       "\n",
       "    .dataframe tbody tr th {\n",
       "        vertical-align: top;\n",
       "    }\n",
       "\n",
       "    .dataframe thead th {\n",
       "        text-align: right;\n",
       "    }\n",
       "</style>\n",
       "<table border=\"1\" class=\"dataframe\">\n",
       "  <thead>\n",
       "    <tr style=\"text-align: right;\">\n",
       "      <th></th>\n",
       "      <th>ergebnisse</th>\n",
       "    </tr>\n",
       "  </thead>\n",
       "  <tbody>\n",
       "    <tr>\n",
       "      <th>train_time</th>\n",
       "      <td>0.012002</td>\n",
       "    </tr>\n",
       "    <tr>\n",
       "      <th>pred_time</th>\n",
       "      <td>0.000000</td>\n",
       "    </tr>\n",
       "    <tr>\n",
       "      <th>acc_score</th>\n",
       "      <td>0.777778</td>\n",
       "    </tr>\n",
       "    <tr>\n",
       "      <th>F_marcro</th>\n",
       "      <td>0.534852</td>\n",
       "    </tr>\n",
       "  </tbody>\n",
       "</table>\n",
       "</div>"
      ],
      "text/plain": [
       "            ergebnisse\n",
       "train_time    0.012002\n",
       "pred_time     0.000000\n",
       "acc_score     0.777778\n",
       "F_marcro      0.534852"
      ]
     },
     "metadata": {},
     "output_type": "display_data"
    }
   ],
   "source": [
    "for a, i in results.items():\n",
    "    print(a)\n",
    "    display(pd.DataFrame(list(i.values())).T.rename(columns = {0:'ergebnisse'}))"
   ]
  },
  {
   "cell_type": "markdown",
   "id": "e1d9c337",
   "metadata": {},
   "source": [
    "###  Modellen werden mit normarlizietem Dataset trainiert. \n",
    "\n",
    "Für die vier Modellen werden mit den Traningsdaten X_treino_scaler X_teste_scaler übergeben.\n",
    "\n",
    "AdaBoostClassifier war der beste Algorithmus mit den Metriken acc_score\t0.777778 und F_marcro 0.534852"
   ]
  },
  {
   "cell_type": "code",
   "execution_count": 64,
   "id": "3f3dd8d6",
   "metadata": {},
   "outputs": [],
   "source": [
    "# results = {}\n",
    "# for clf in [clf_A, clf_B, clf_C,clf_D]:\n",
    "#     clf_name = clf.__class__.__name__\n",
    "#     results[clf_name] = {}\n",
    "#     for i in [samples]:\n",
    "#         results[clf_name][i]= \\\n",
    "#         train_predict(clf, X_treino_scaler, y_train, X_teste_scaler, y_valid)\n",
    "       "
   ]
  },
  {
   "cell_type": "code",
   "execution_count": 65,
   "id": "b8274ac2",
   "metadata": {},
   "outputs": [
    {
     "name": "stdout",
     "output_type": "stream",
     "text": [
      "DecisionTreeClassifier\n"
     ]
    },
    {
     "data": {
      "text/html": [
       "<div>\n",
       "<style scoped>\n",
       "    .dataframe tbody tr th:only-of-type {\n",
       "        vertical-align: middle;\n",
       "    }\n",
       "\n",
       "    .dataframe tbody tr th {\n",
       "        vertical-align: top;\n",
       "    }\n",
       "\n",
       "    .dataframe thead th {\n",
       "        text-align: right;\n",
       "    }\n",
       "</style>\n",
       "<table border=\"1\" class=\"dataframe\">\n",
       "  <thead>\n",
       "    <tr style=\"text-align: right;\">\n",
       "      <th></th>\n",
       "      <th>ergebnis</th>\n",
       "    </tr>\n",
       "  </thead>\n",
       "  <tbody>\n",
       "    <tr>\n",
       "      <th>train_time</th>\n",
       "      <td>0.002024</td>\n",
       "    </tr>\n",
       "    <tr>\n",
       "      <th>pred_time</th>\n",
       "      <td>0.000000</td>\n",
       "    </tr>\n",
       "    <tr>\n",
       "      <th>acc_score</th>\n",
       "      <td>0.666667</td>\n",
       "    </tr>\n",
       "    <tr>\n",
       "      <th>F_marcro</th>\n",
       "      <td>0.492899</td>\n",
       "    </tr>\n",
       "  </tbody>\n",
       "</table>\n",
       "</div>"
      ],
      "text/plain": [
       "            ergebnis\n",
       "train_time  0.002024\n",
       "pred_time   0.000000\n",
       "acc_score   0.666667\n",
       "F_marcro    0.492899"
      ]
     },
     "metadata": {},
     "output_type": "display_data"
    },
    {
     "name": "stdout",
     "output_type": "stream",
     "text": [
      "SVC\n"
     ]
    },
    {
     "data": {
      "text/html": [
       "<div>\n",
       "<style scoped>\n",
       "    .dataframe tbody tr th:only-of-type {\n",
       "        vertical-align: middle;\n",
       "    }\n",
       "\n",
       "    .dataframe tbody tr th {\n",
       "        vertical-align: top;\n",
       "    }\n",
       "\n",
       "    .dataframe thead th {\n",
       "        text-align: right;\n",
       "    }\n",
       "</style>\n",
       "<table border=\"1\" class=\"dataframe\">\n",
       "  <thead>\n",
       "    <tr style=\"text-align: right;\">\n",
       "      <th></th>\n",
       "      <th>ergebnis</th>\n",
       "    </tr>\n",
       "  </thead>\n",
       "  <tbody>\n",
       "    <tr>\n",
       "      <th>train_time</th>\n",
       "      <td>0.000000</td>\n",
       "    </tr>\n",
       "    <tr>\n",
       "      <th>pred_time</th>\n",
       "      <td>0.000991</td>\n",
       "    </tr>\n",
       "    <tr>\n",
       "      <th>acc_score</th>\n",
       "      <td>0.555556</td>\n",
       "    </tr>\n",
       "    <tr>\n",
       "      <th>F_marcro</th>\n",
       "      <td>0.417701</td>\n",
       "    </tr>\n",
       "  </tbody>\n",
       "</table>\n",
       "</div>"
      ],
      "text/plain": [
       "            ergebnis\n",
       "train_time  0.000000\n",
       "pred_time   0.000991\n",
       "acc_score   0.555556\n",
       "F_marcro    0.417701"
      ]
     },
     "metadata": {},
     "output_type": "display_data"
    },
    {
     "name": "stdout",
     "output_type": "stream",
     "text": [
      "AdaBoostClassifier\n"
     ]
    },
    {
     "data": {
      "text/html": [
       "<div>\n",
       "<style scoped>\n",
       "    .dataframe tbody tr th:only-of-type {\n",
       "        vertical-align: middle;\n",
       "    }\n",
       "\n",
       "    .dataframe tbody tr th {\n",
       "        vertical-align: top;\n",
       "    }\n",
       "\n",
       "    .dataframe thead th {\n",
       "        text-align: right;\n",
       "    }\n",
       "</style>\n",
       "<table border=\"1\" class=\"dataframe\">\n",
       "  <thead>\n",
       "    <tr style=\"text-align: right;\">\n",
       "      <th></th>\n",
       "      <th>ergebnis</th>\n",
       "    </tr>\n",
       "  </thead>\n",
       "  <tbody>\n",
       "    <tr>\n",
       "      <th>train_time</th>\n",
       "      <td>0.041950</td>\n",
       "    </tr>\n",
       "    <tr>\n",
       "      <th>pred_time</th>\n",
       "      <td>0.005002</td>\n",
       "    </tr>\n",
       "    <tr>\n",
       "      <th>acc_score</th>\n",
       "      <td>0.777778</td>\n",
       "    </tr>\n",
       "    <tr>\n",
       "      <th>F_marcro</th>\n",
       "      <td>0.534852</td>\n",
       "    </tr>\n",
       "  </tbody>\n",
       "</table>\n",
       "</div>"
      ],
      "text/plain": [
       "            ergebnis\n",
       "train_time  0.041950\n",
       "pred_time   0.005002\n",
       "acc_score   0.777778\n",
       "F_marcro    0.534852"
      ]
     },
     "metadata": {},
     "output_type": "display_data"
    },
    {
     "name": "stdout",
     "output_type": "stream",
     "text": [
      "LogisticRegression\n"
     ]
    },
    {
     "data": {
      "text/html": [
       "<div>\n",
       "<style scoped>\n",
       "    .dataframe tbody tr th:only-of-type {\n",
       "        vertical-align: middle;\n",
       "    }\n",
       "\n",
       "    .dataframe tbody tr th {\n",
       "        vertical-align: top;\n",
       "    }\n",
       "\n",
       "    .dataframe thead th {\n",
       "        text-align: right;\n",
       "    }\n",
       "</style>\n",
       "<table border=\"1\" class=\"dataframe\">\n",
       "  <thead>\n",
       "    <tr style=\"text-align: right;\">\n",
       "      <th></th>\n",
       "      <th>ergebnis</th>\n",
       "    </tr>\n",
       "  </thead>\n",
       "  <tbody>\n",
       "    <tr>\n",
       "      <th>train_time</th>\n",
       "      <td>0.002001</td>\n",
       "    </tr>\n",
       "    <tr>\n",
       "      <th>pred_time</th>\n",
       "      <td>0.000000</td>\n",
       "    </tr>\n",
       "    <tr>\n",
       "      <th>acc_score</th>\n",
       "      <td>0.444444</td>\n",
       "    </tr>\n",
       "    <tr>\n",
       "      <th>F_marcro</th>\n",
       "      <td>0.328042</td>\n",
       "    </tr>\n",
       "  </tbody>\n",
       "</table>\n",
       "</div>"
      ],
      "text/plain": [
       "            ergebnis\n",
       "train_time  0.002001\n",
       "pred_time   0.000000\n",
       "acc_score   0.444444\n",
       "F_marcro    0.328042"
      ]
     },
     "metadata": {},
     "output_type": "display_data"
    }
   ],
   "source": [
    "# for a, i in results.items():\n",
    "#     print(a)\n",
    "#     display(pd.DataFrame(list(i.values())).T.rename(columns = {0:'ergebnis'}))"
   ]
  },
  {
   "cell_type": "code",
   "execution_count": 114,
   "id": "4db0098b",
   "metadata": {},
   "outputs": [
    {
     "data": {
      "image/png": "[encoded data removed]",
      "text/plain": [
       "<Figure size 720x360 with 2 Axes>"
      ]
     },
     "metadata": {
      "needs_background": "light"
     },
     "output_type": "display_data"
    },
    {
     "data": {
      "image/png": "[encoded data removed]",
      "text/plain": [
       "<Figure size 720x360 with 2 Axes>"
      ]
     },
     "metadata": {
      "needs_background": "light"
     },
     "output_type": "display_data"
    },
    {
     "data": {
      "image/png": "[encoded data removed]",
      "text/plain": [
       "<Figure size 720x360 with 2 Axes>"
      ]
     },
     "metadata": {
      "needs_background": "light"
     },
     "output_type": "display_data"
    },
    {
     "data": {
      "image/png": "[encoded data removed]",
      "text/plain": [
       "<Figure size 720x360 with 2 Axes>"
      ]
     },
     "metadata": {
      "needs_background": "light"
     },
     "output_type": "display_data"
    }
   ],
   "source": [
    "#Visualizing the confusion matrix for each classifier\n",
    "from sklearn.metrics import confusion_matrix\n",
    "\n",
    "for i,model in enumerate([clf_A,clf_B,clf_C,clf_D]):\n",
    "    cm = confusion_matrix(y_valid, model.predict(X_valid))\n",
    "    cm = cm.astype('float') / cm.sum(axis=1).T[:, np.newaxis] # normalize the data\n",
    "    #cm = cm.astype('float') / cm.sum(axis=1)\n",
    "    \n",
    "\n",
    "    # view with a heatmap\n",
    "    plt.figure(i)\n",
    "    sns.heatmap(cm, annot=True, annot_kws={\"size\":15}, \n",
    "    cmap='cividis', square=True, fmt='.3f')\n",
    "    plt.ylabel('True label')\n",
    "    plt.xlabel('Predicted label')\n",
    "    plt.title('Confusion matrix for:\\n{}'.format(model.__class__.__name__));"
   ]
  },
  {
   "cell_type": "markdown",
   "id": "7fd00f55",
   "metadata": {},
   "source": [
    "## Modelle Ergebnis:\n",
    "\n",
    "Betrachtet man die obigen Ergebnisse, ist **AdaBoost** und **logistische Regresion** von den vier Modellen für unsere Aufgabe am besten geeigneten.\n",
    "\n",
    "In erster Linie sind die beiden Modellen, die bei den Testdaten sowohl in Bezug auf die Genauigkeit als auch auf den f-Wert am besten abschneiden. Es dauert auch relativ wenig Zeit, um mit dem vollständigen Datensatz zu trainieren, was nur ein Bruchteil der 0.042893 und 0.003004 Sekunden ist.\n",
    "\n"
   ]
  },
  {
   "cell_type": "markdown",
   "id": "33d46a84",
   "metadata": {},
   "source": [
    "### Tuning  des Modells:\n",
    "\n",
    "#### Adaboost:\n",
    "\n",
    "Mithilfe der Rastersuche (GridSearchCV) mit verschiedenen Parameter/Wert-Kombinationen kann ic das Modell für noch bessere Ergebnisse optimieren.\n",
    "Für Adaboost werde ich den Parameter n_estimators und die Lernrate, sowie den Parameter des Basisklassifikators optimieren (Der Basisklassifikator ist für das Adaboost-Ensemble ein Entscheidungsbaum)."
   ]
  },
  {
   "cell_type": "code",
   "execution_count": 115,
   "id": "e386ca9f",
   "metadata": {},
   "outputs": [
    {
     "name": "stdout",
     "output_type": "stream",
     "text": [
      "Unoptimized model\n",
      "------\n",
      "Accuracy score on testing data: 0.7778\n",
      "F-score on testing data: 0.5349\n",
      "\n",
      "Optimized Model\n",
      "------\n",
      "Final accuracy score on the testing data: 0.6667\n",
      "Final F-score on the testing data: 0.4521\n",
      "AdaBoostClassifier(base_estimator=DecisionTreeClassifier(max_depth=1),\n",
      "                   learning_rate=0.1, random_state=101)\n"
     ]
    }
   ],
   "source": [
    "# Import 'GridSearchCV', 'make_scorer', and any other necessary libraries\n",
    "from sklearn.model_selection import GridSearchCV\n",
    "from sklearn.metrics import make_scorer\n",
    "\n",
    "# Initialize the classifier\n",
    "clf = AdaBoostClassifier(base_estimator=DecisionTreeClassifier(),random_state = 101)\n",
    "\n",
    "# Create the parameters list you wish to tune\n",
    "parameters = {\n",
    "    'n_estimators':[50, 120],\n",
    "    'learning_rate':[0.1, 0.5, 1.],\n",
    "    'base_estimator__min_samples_split' : np.arange(2, 8, 2),\n",
    "    'base_estimator__max_depth' : np.arange(1, 4, 1)\n",
    "}\n",
    "    \n",
    "\n",
    "# Make an fbeta_score scoring object\n",
    "scorer = make_scorer(fbeta_score,beta=0.5)\n",
    "\n",
    "# Perform grid search on the classifier using 'scorer' as the scoring method\n",
    "grid_obj = GridSearchCV(estimator=clf, param_grid=parameters,scoring=scorer,cv=10)\n",
    "\n",
    "# Fit the grid search object to the training data and find the optimal parameters\n",
    "grid_fit = grid_obj.fit(X_train,y_train)\n",
    "\n",
    "# Get the estimator\n",
    "best_clf = grid_fit.best_estimator_\n",
    "\n",
    "# Make predictions using the unoptimized and model\n",
    "predictions = (clf_C.fit(X_train, y_train)).predict(X_valid)\n",
    "best_predictions = best_clf.predict(X_valid)\n",
    "\n",
    "# Report the before-and-afterscores\n",
    "print(\"Unoptimized model\\n------\")\n",
    "print(\"Accuracy score on testing data: {:.4f}\".format(accuracy_score(y_valid, predictions)))\n",
    "print(\"F-score on testing data: {:.4f}\".format(fbeta_score(y_valid, predictions, beta = 0.5,average='macro')))\n",
    "print(\"\\nOptimized Model\\n------\")\n",
    "print(\"Final accuracy score on the testing data: {:.4f}\".format(accuracy_score(y_valid, best_predictions)))\n",
    "print(\"Final F-score on the testing data: {:.4f}\".format(fbeta_score(y_valid, best_predictions, beta = 0.5,average='macro')))\n",
    "print(best_clf)"
   ]
  },
  {
   "cell_type": "markdown",
   "id": "0a53167a",
   "metadata": {},
   "source": [
    "#### LogisticRegression:\n",
    "\n",
    "Für die LogistcRegression werde ich mit Tuning-Parametern die beste Ergebnisse erzielen.\n",
    " Es wurden verschiedene Parameter ausprobiert und getestet"
   ]
  },
  {
   "cell_type": "code",
   "execution_count": 116,
   "id": "63ad1f23",
   "metadata": {},
   "outputs": [
    {
     "name": "stdout",
     "output_type": "stream",
     "text": [
      "Unoptimized model\n",
      "------\n",
      "Accuracy score on testing data: 0.7778\n",
      "F-score on testing data: 0.5349\n",
      "\n",
      "Optimized Model\n",
      "------\n",
      "Final accuracy score on the testing data: 0.8000\n",
      "Final F-score on the testing data: 0.5906\n",
      "tuned hpyerparameters :(best parameters)  {'C': 0.01, 'penalty': 'l2'}\n"
     ]
    }
   ],
   "source": [
    "from sklearn.model_selection import GridSearchCV\n",
    "from sklearn.linear_model import LogisticRegression\n",
    "grid={\"C\":np.logspace(-3,3,7), \"penalty\":[\"l1\",\"l2\",\"l3\",\"l4\"]}# l1 lasso l2 ridge\n",
    "\n",
    "logreg=LogisticRegression()\n",
    "logreg_cv=GridSearchCV(logreg,grid,cv=10)\n",
    "logreg_cv.fit(X_train,y_train)\n",
    "best_predictions = logreg_cv.predict(X_valid)\n",
    "\n",
    "predictions = (clf_D.fit(X_train, y_train)).predict(X_valid)\n",
    "\n",
    "\n",
    "\n",
    "# Report the before-and-afterscores\n",
    "print(\"Unoptimized model\\n------\")\n",
    "print(\"Accuracy score on testing data: {:.4f}\".format(accuracy_score(y_valid, predictions)))\n",
    "print(\"F-score on testing data: {:.4f}\".format(fbeta_score(y_valid, predictions, beta = 0.5,average='macro')))\n",
    "print(\"\\nOptimized Model\\n------\")\n",
    "print(\"Final accuracy score on the testing data: {:.4f}\".format(logreg_cv.best_score_))\n",
    "print(\"Final F-score on the testing data: {:.4f}\".format(fbeta_score(y_valid, best_predictions, beta = 4,average='macro')))\n",
    "\n",
    "\n",
    "\n",
    "print(\"tuned hpyerparameters :(best parameters) \",logreg_cv.best_params_)\n"
   ]
  },
  {
   "cell_type": "code",
   "execution_count": 117,
   "id": "a70cc488",
   "metadata": {},
   "outputs": [
    {
     "name": "stdout",
     "output_type": "stream",
     "text": [
      "score 0.7777777777777778\n",
      "Accuracy score on testing data: 0.7778\n"
     ]
    }
   ],
   "source": [
    "logreg2=LogisticRegression(C=1,penalty=\"l2\")\n",
    "logreg2.fit(X_train,y_train)\n",
    "print(\"score\",logreg2.score(X_valid,y_valid))\n",
    "\n",
    "print(\"Accuracy score on testing data: {:.4f}\".format(accuracy_score(y_valid, best_predictions)))"
   ]
  },
  {
   "cell_type": "markdown",
   "id": "2b9e7fe7",
   "metadata": {},
   "source": [
    "### Features Import \n",
    "\n",
    "Eine wichtige Aufgabe bei der Durchführung von überwachtem Lernen an einem Datensatz, wie den hier untersuchten Einflussen von dem Kader auf die Platzierung einer Mannschaft in der Premier Liga besteht darin, zu bestimmen, welche Merkmale die größte Vorhersagekraft bieten, indem auf die Beziehung zwischen nur wenigen entscheidenden Merkmalen und dem Zielklasse konzentrieren wird. Damit wird versucht, das Phänomen zu vereinfachen. Was meistens eine nützliche Sache ist. Im Fall dieses Projekts bedeutet dies, dass eine kleine Anzahl von Merkmalen identifizieren wird, die am stärksten vorhersagen, ob die Merkmalen einen Einfluss auf die Platzierung von den Mannschaften hat.\n",
    "\n",
    "Merkmalsrelevanz Beobachtung:\n",
    "\n",
    "1.  Aauslaender_prozent, 0.5\n",
    "2.  Height, 0.18\n",
    "3.  Age, 0.18\n",
    "4.  Weight', 0.14\n",
    "5.  Spieler_median, 0.0\n",
    "\n",
    "#### Am wichtigsten für die Vorhersage sind meiner Meinung nach:\n",
    "In September 2022 waren mehr als 66 Prozent der Spieler in der englischen Premier League ausländischer Herkunft (\"Legionäre\"). Damit lag der Anteil weit vor den anderen Big Five Fußball-Ligen Europas. Allein in dieser Saison mobilisieren die Mannschaften aus der Premier Liga über eine halbe Milliarde Euro in neue Spieler. Somit entstehen enorm Vorteile für die Englische Mannschaften, wenn es darum geht die besten Spieler auszusuchen. Die immensen Einnahmen könnten Vereine in einen breiteren und teureren Kader investieren. Die aktuelle Saison 2022/2023 haben die erste drei besten Mannschfaten in der Tabelle mindestens 55% Legionäre in dem Kader.\n",
    "\n",
    "\n",
    "\n",
    "\n",
    "\n"
   ]
  },
  {
   "cell_type": "code",
   "execution_count": 83,
   "id": "9c8830d9",
   "metadata": {},
   "outputs": [
    {
     "name": "stdout",
     "output_type": "stream",
     "text": [
      "('height', 0.18)\n",
      "('weight', 0.14)\n",
      "('age', 0.18)\n",
      "('spieler_median', 0.0)\n",
      "('auslaender_prozent', 0.5)\n"
     ]
    }
   ],
   "source": [
    "for i in zip(X.columns, clf_C.feature_importances_):\n",
    "  print(i)"
   ]
  },
  {
   "cell_type": "code",
   "execution_count": 84,
   "id": "cd53bcbf",
   "metadata": {},
   "outputs": [
    {
     "data": {
      "text/plain": [
       "<AxesSubplot:>"
      ]
     },
     "execution_count": 84,
     "metadata": {},
     "output_type": "execute_result"
    },
    {
     "data": {
      "image/png": "[encoded data removed]",
      "text/plain": [
       "<Figure size 720x360 with 1 Axes>"
      ]
     },
     "metadata": {
      "needs_background": "light"
     },
     "output_type": "display_data"
    }
   ],
   "source": [
    "from pylab import rcParams\n",
    "rcParams['figure.figsize'] = 10, 5\n",
    "feat_importances = pd.Series(clf_C.feature_importances_, index=X.columns)\n",
    "feat_importances.nlargest(4).plot(kind='barh',colormap='Paired')\n"
   ]
  },
  {
   "cell_type": "markdown",
   "id": "c36fc7f5",
   "metadata": {},
   "source": [
    "### Modellbewertung\n",
    "\n",
    "Das Modell mit den besten Ergbnissen war die logistische Regression\n",
    "\n",
    "* Hyperparameters: 'C': 0.01 und 'penalty': 'l2'\n",
    "\n",
    "* Final accuracy: 0.8000\n",
    "\n",
    "* F-score: 0.5906\n",
    "\n",
    "#### Auswertung der Ergebnisse\n",
    "Nachdem wir das Modell auf der Grundlage verschiedener Metriken bewertet haben, können wir zu einer Schlussfolgerung kommen. \n",
    "\n",
    "Obwohl wir eine sehr hohe Accuracy von 80,0 % erhalten haben, haben wir später gesehen, dass das Modell nicht so gut war, wie wir zunächst dachten. In diesem speziellen Fall hatten wir es mit einem sehr unausgewogenen Datensatz zu tun. Für die erste Klasse haben wir fünf Mannschaften, zweit Klasse elf Mannschaften und die dritte Klasse vier Mannschfaten. Wir haben eine F-score von 0.5906. Mit einer F-Measure (beta=3.0): haben wir weniger Gewicht auf Präzision, mehr Gewicht auf recall und könnte so die Ergebnisse ein bisschen verbessert.\n",
    "\n",
    "\n",
    "\n",
    "\n",
    "\n"
   ]
  },
  {
   "cell_type": "code",
   "execution_count": 50,
   "id": "3d6acc4d",
   "metadata": {},
   "outputs": [
    {
     "data": {
      "text/html": [
       "<div>\n",
       "<style scoped>\n",
       "    .dataframe tbody tr th:only-of-type {\n",
       "        vertical-align: middle;\n",
       "    }\n",
       "\n",
       "    .dataframe tbody tr th {\n",
       "        vertical-align: top;\n",
       "    }\n",
       "\n",
       "    .dataframe thead th {\n",
       "        text-align: right;\n",
       "    }\n",
       "</style>\n",
       "<table border=\"1\" class=\"dataframe\">\n",
       "  <thead>\n",
       "    <tr style=\"text-align: right;\">\n",
       "      <th></th>\n",
       "      <th>Benchmark Predictor</th>\n",
       "      <th>Unoptimized Model</th>\n",
       "      <th>Optimized Model</th>\n",
       "    </tr>\n",
       "  </thead>\n",
       "  <tbody>\n",
       "    <tr>\n",
       "      <th>Accuracy Score</th>\n",
       "      <td>1.0</td>\n",
       "      <td>0.7778</td>\n",
       "      <td>0.8000</td>\n",
       "    </tr>\n",
       "    <tr>\n",
       "      <th>F-score</th>\n",
       "      <td>1.0</td>\n",
       "      <td>0.5349</td>\n",
       "      <td>0.5906</td>\n",
       "    </tr>\n",
       "  </tbody>\n",
       "</table>\n",
       "</div>"
      ],
      "text/plain": [
       "                Benchmark Predictor  Unoptimized Model  Optimized Model\n",
       "Accuracy Score                  1.0             0.7778           0.8000\n",
       "F-score                         1.0             0.5349           0.5906"
      ]
     },
     "execution_count": 50,
     "metadata": {},
     "output_type": "execute_result"
    }
   ],
   "source": [
    "best_logistiche_regresion = pd.DataFrame(np.array([[1, 0.7778, 0.8000],[1, 0.5349, 0.5906]]),\n",
    "                   columns=['Benchmark Predictor','Unoptimized Model','Optimized Model'], \n",
    "                   index=['Accuracy Score','F-score'])\n",
    "\n",
    "best_logistiche_regresion\n",
    "\n",
    "# Metric\tBenchmark Predictor\tUnoptimized Model\tOptimized Model\n",
    "# Accuracy Score\t0.2478\t0.8398\t0.8680\n",
    "# F-score\t0.2917\t0.6745\t0.7498"
   ]
  },
  {
   "cell_type": "markdown",
   "id": "a270e719",
   "metadata": {},
   "source": [
    "### Nächste Schritte "
   ]
  },
  {
   "cell_type": "markdown",
   "id": "11bc8685",
   "metadata": {},
   "source": [
    "- Es sind zu wenig Trainningsdate zu verfügen. Neue Daten sollten für den Algorithums gesammelt werden, um die Ergebnisse des Modelles zu verbessern.\n",
    "\n",
    "-  Um aussagekräftige Modellperformance auf kleinen Datensätzen zu bekommen, könnte man das k-fache Kreuzvalidierungsverfahren implementieren. Die k-fold-Cross-Validatio ist eine Standardmethode zum Schätzen der Leistung eines maschinellen Lernalgorithmus oder einer Konfiguration für einen Datensatz. Das k-fache Kreuzvalidierungsverfahren unterteilt einen begrenzten Datensatz in k nicht überlappende Falten. Jede der k Faltungen erhält die Möglichkeit, als zurückgehaltener Testsatz verwendet zu werden. Während alle anderen Faltungen gemeinsam als Trainingsdatensatz verwendet werden. Insgesamt k Modelle werden an den k Hold-out-Testsätzen angepasst und bewertet, und die mittlere Leistung wird angegeben.\n",
    "\n",
    "\n",
    "-  Das Modell-Tuning konnte neu versuchen werden. Statt mit Grid Search konnte man aus der Bibliotheke **scikit-optimize** die **Methoden Random Search** und **Bayesian Optimization** nehmen. Bei der Methode Random Search handelt sich um einen Raster mit Hyperparameterwerten. Die Werten werden zufällig aus verschidenen Kombinationen ausgewählt. Nach Abschluss des Trainings werden die besten Parameter gefundenen. Die Anzahl der Suchiterationen wird basierend auf Zeit/Ressourcen festgelegt.\n",
    "\n",
    "\n",
    "\n",
    "\n",
    "\n"
   ]
  },
  {
   "cell_type": "markdown",
   "id": "34ec458a",
   "metadata": {},
   "source": [
    "### Modell Speichern"
   ]
  },
  {
   "cell_type": "code",
   "execution_count": null,
   "id": "a9e5263e",
   "metadata": {},
   "outputs": [],
   "source": [
    "import joblib as jb\n",
    "\n",
    "modelo = LR\n",
    "description='Logistische Regressionmodelo für die Klassifikation von Mannschaften aus der Premier Liga in Bezug auf den aktuel Kader , . \\\n",
    " Columns: ' + \" ','\".join(X.columns)\n",
    "date='07.02.2023'\n",
    "version='0.3'\n",
    "name_model='classificacao_times_RL'\n",
    "metrics = 'acc: 0.8000 e f1socre: 0.5909'\n",
    "\n",
    "dic_save_model = dict({\n",
    "    'model': logreg_cv,\n",
    "    'metadata': {\n",
    "        'description': description,\n",
    "        'author': 'Wildt',\n",
    "        'date': date,\n",
    "        'source_code_version': version,\n",
    "        'metrics': metrics\n",
    "    }\n",
    "})\n",
    "dic_save_model"
   ]
  }
 ],
 "metadata": {
  "kernelspec": {
   "display_name": "Python 3 (ipykernel)",
   "language": "python",
   "name": "python3"
  },
  "language_info": {
   "codemirror_mode": {
    "name": "ipython",
    "version": 3
   },
   "file_extension": ".py",
   "mimetype": "text/x-python",
   "name": "python",
   "nbconvert_exporter": "python",
   "pygments_lexer": "ipython3",
   "version": "3.10.4"
  }
 },
 "nbformat": 4,
 "nbformat_minor": 5
}
